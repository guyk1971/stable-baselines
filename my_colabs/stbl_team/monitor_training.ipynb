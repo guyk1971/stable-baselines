{
 "cells": [
  {
   "cell_type": "markdown",
   "metadata": {
    "colab_type": "text",
    "id": "hyyN-2qyK_T2"
   },
   "source": [
    "# Stable Baselines, a Fork of OpenAI Baselines - Monitor Training and Plotting\n",
    "\n",
    "Github Repo: [https://github.com/hill-a/stable-baselines](https://github.com/hill-a/stable-baselines)\n",
    "\n",
    "Medium article: [https://medium.com/@araffin/stable-baselines-a-fork-of-openai-baselines-df87c4b2fc82](https://medium.com/@araffin/stable-baselines-a-fork-of-openai-baselines-df87c4b2fc82)\n",
    "\n",
    "[RL Baselines Zoo](https://github.com/araffin/rl-baselines-zoo) is a collection of pre-trained Reinforcement Learning agents using Stable-Baselines.\n",
    "\n",
    "It also provides basic scripts for training, evaluating agents, tuning hyperparameters and recording videos.\n",
    "\n",
    "Documentation is available online: [https://stable-baselines.readthedocs.io/](https://stable-baselines.readthedocs.io/)\n",
    "\n",
    "## Install Dependencies and Stable Baselines Using Pip\n",
    "\n",
    "List of full dependencies can be found in the [README](https://github.com/hill-a/stable-baselines).\n",
    "\n",
    "```\n",
    "sudo apt-get update && sudo apt-get install cmake libopenmpi-dev zlib1g-dev\n",
    "```\n",
    "\n",
    "\n",
    "```\n",
    "pip install stable-baselines[mpi]\n",
    "```"
   ]
  },
  {
   "cell_type": "code",
   "execution_count": null,
   "metadata": {
    "colab": {
     "base_uri": "https://localhost:8080/",
     "height": 1000
    },
    "colab_type": "code",
    "id": "gWskDE2c9WoN",
    "outputId": "62dcdaff-c674-4001-cf6b-7c335607256d"
   },
   "outputs": [],
   "source": [
    "# !apt install swig cmake libopenmpi-dev zlib1g-dev\n",
    "# !pip install stable-baselines[mpi]==2.8.0 box2d box2d-kengz\n",
    "# Stable Baselines only supports tensorflow 1.x for now\n",
    "# %tensorflow_version 1.x"
   ]
  },
  {
   "cell_type": "code",
   "execution_count": 1,
   "metadata": {},
   "outputs": [
    {
     "name": "stdout",
     "output_type": "stream",
     "text": [
      "['/home/guy/workspace/study/remote/stable-baselines/my_colabs/stbl_team', '/home/guy/workspace/study/remote/stable-baselines/my_colabs/stbl_team', '/home/guy/workspace/study/remote/agents', '/home/guy/workspace/study/remote/stable-baselines', '/home/guy/anaconda3/envs/rl15/lib/python37.zip', '/home/guy/anaconda3/envs/rl15/lib/python3.7', '/home/guy/anaconda3/envs/rl15/lib/python3.7/lib-dynload', '', '/home/guy/anaconda3/envs/rl15/lib/python3.7/site-packages', '/home/guy/anaconda3/envs/rl15/lib/python3.7/site-packages/IPython/extensions', '/home/guy/.ipython']\n"
     ]
    }
   ],
   "source": [
    "%load_ext autoreload\n",
    "%autoreload 2\n",
    "try:\n",
    "    %%tensorflow_version 1.x\n",
    "except:\n",
    "    pass\n",
    "\n",
    "import os\n",
    "import sys\n",
    "lib_path = os.path.abspath('../..')\n",
    "if lib_path not in sys.path:\n",
    "    print('inserting the following to path',lib_path)\n",
    "    sys.path.insert(0,lib_path)\n",
    "print(sys.path)\n",
    "#-----------------------------------\n",
    "# Filter tensorflow version warnings\n",
    "#-----------------------------------\n",
    "# https://stackoverflow.com/questions/40426502/is-there-a-way-to-suppress-the-messages-tensorflow-prints/40426709\n",
    "os.environ['TF_CPP_MIN_LOG_LEVEL'] = '3'  # or any {'0', '1', '2'}\n",
    "import warnings\n",
    "# https://stackoverflow.com/questions/15777951/how-to-suppress-pandas-future-warning\n",
    "warnings.simplefilter(action='ignore', category=FutureWarning)\n",
    "warnings.simplefilter(action='ignore', category=Warning)\n",
    "import tensorflow as tf\n",
    "tf.get_logger().setLevel('INFO')\n",
    "tf.autograph.set_verbosity(0)\n",
    "import logging\n",
    "tf.get_logger().setLevel(logging.ERROR)\n",
    "\n",
    "# from IPython.core.debugger import set_trace     # GK debug"
   ]
  },
  {
   "cell_type": "code",
   "execution_count": 2,
   "metadata": {
    "colab": {
     "base_uri": "https://localhost:8080/",
     "height": 1000
    },
    "colab_type": "code",
    "id": "hXkRTwzRqTEY",
    "outputId": "c0d5069b-662d-43cf-91e4-c447dd31e14a"
   },
   "outputs": [
    {
     "name": "stdout",
     "output_type": "stream",
     "text": [
      "1000 timesteps\n",
      "Best mean reward: -inf - Last mean reward per episode: -491.23\n",
      "Saving new best model\n",
      "1917 timesteps\n",
      "Best mean reward: -491.23 - Last mean reward per episode: -553.77\n",
      "2936 timesteps\n",
      "Best mean reward: -491.23 - Last mean reward per episode: -637.21\n",
      "3928 timesteps\n",
      "Best mean reward: -491.23 - Last mean reward per episode: -638.57\n",
      "4958 timesteps\n",
      "Best mean reward: -491.23 - Last mean reward per episode: -630.34\n",
      "5994 timesteps\n",
      "Best mean reward: -491.23 - Last mean reward per episode: -616.38\n",
      "6688 timesteps\n",
      "Best mean reward: -491.23 - Last mean reward per episode: -608.34\n",
      "7883 timesteps\n",
      "Best mean reward: -491.23 - Last mean reward per episode: -604.78\n",
      "8766 timesteps\n",
      "Best mean reward: -491.23 - Last mean reward per episode: -599.41\n",
      "9907 timesteps\n",
      "Best mean reward: -491.23 - Last mean reward per episode: -592.25\n",
      "10848 timesteps\n",
      "Best mean reward: -491.23 - Last mean reward per episode: -609.11\n",
      "11692 timesteps\n",
      "Best mean reward: -491.23 - Last mean reward per episode: -604.55\n",
      "12789 timesteps\n",
      "Best mean reward: -491.23 - Last mean reward per episode: -603.99\n",
      "13809 timesteps\n",
      "Best mean reward: -491.23 - Last mean reward per episode: -598.70\n",
      "14816 timesteps\n",
      "Best mean reward: -491.23 - Last mean reward per episode: -599.04\n",
      "15740 timesteps\n",
      "Best mean reward: -491.23 - Last mean reward per episode: -595.63\n",
      "16929 timesteps\n",
      "Best mean reward: -491.23 - Last mean reward per episode: -574.43\n",
      "17971 timesteps\n",
      "Best mean reward: -491.23 - Last mean reward per episode: -565.08\n",
      "18988 timesteps\n",
      "Best mean reward: -491.23 - Last mean reward per episode: -543.50\n",
      "19858 timesteps\n",
      "Best mean reward: -491.23 - Last mean reward per episode: -527.39\n",
      "20892 timesteps\n",
      "Best mean reward: -491.23 - Last mean reward per episode: -504.22\n",
      "21823 timesteps\n",
      "Best mean reward: -491.23 - Last mean reward per episode: -478.03\n",
      "Saving new best model\n",
      "22928 timesteps\n",
      "Best mean reward: -478.03 - Last mean reward per episode: -435.66\n",
      "Saving new best model\n",
      "23945 timesteps\n",
      "Best mean reward: -435.66 - Last mean reward per episode: -419.17\n",
      "Saving new best model\n",
      "24888 timesteps\n",
      "Best mean reward: -419.17 - Last mean reward per episode: -397.36\n",
      "Saving new best model\n",
      "25884 timesteps\n",
      "Best mean reward: -397.36 - Last mean reward per episode: -371.12\n",
      "Saving new best model\n",
      "26900 timesteps\n",
      "Best mean reward: -371.12 - Last mean reward per episode: -350.84\n",
      "Saving new best model\n",
      "27927 timesteps\n",
      "Best mean reward: -350.84 - Last mean reward per episode: -326.36\n",
      "Saving new best model\n",
      "28817 timesteps\n",
      "Best mean reward: -326.36 - Last mean reward per episode: -315.78\n",
      "Saving new best model\n",
      "29943 timesteps\n",
      "Best mean reward: -315.78 - Last mean reward per episode: -303.00\n",
      "Saving new best model\n",
      "30754 timesteps\n",
      "Best mean reward: -303.00 - Last mean reward per episode: -286.67\n",
      "Saving new best model\n",
      "31809 timesteps\n",
      "Best mean reward: -286.67 - Last mean reward per episode: -273.07\n",
      "Saving new best model\n",
      "32984 timesteps\n",
      "Best mean reward: -273.07 - Last mean reward per episode: -253.52\n",
      "Saving new best model\n",
      "33847 timesteps\n",
      "Best mean reward: -253.52 - Last mean reward per episode: -245.24\n",
      "Saving new best model\n",
      "34692 timesteps\n",
      "Best mean reward: -245.24 - Last mean reward per episode: -233.76\n",
      "Saving new best model\n",
      "35910 timesteps\n",
      "Best mean reward: -233.76 - Last mean reward per episode: -210.08\n",
      "Saving new best model\n",
      "36884 timesteps\n",
      "Best mean reward: -210.08 - Last mean reward per episode: -199.30\n",
      "Saving new best model\n",
      "37887 timesteps\n",
      "Best mean reward: -199.30 - Last mean reward per episode: -184.86\n",
      "Saving new best model\n",
      "38538 timesteps\n",
      "Best mean reward: -184.86 - Last mean reward per episode: -183.73\n",
      "Saving new best model\n",
      "39806 timesteps\n",
      "Best mean reward: -183.73 - Last mean reward per episode: -180.79\n",
      "Saving new best model\n",
      "40885 timesteps\n",
      "Best mean reward: -180.79 - Last mean reward per episode: -171.66\n",
      "Saving new best model\n",
      "41858 timesteps\n",
      "Best mean reward: -171.66 - Last mean reward per episode: -172.11\n",
      "42865 timesteps\n",
      "Best mean reward: -171.66 - Last mean reward per episode: -166.00\n",
      "Saving new best model\n",
      "43871 timesteps\n",
      "Best mean reward: -166.00 - Last mean reward per episode: -162.92\n",
      "Saving new best model\n",
      "44832 timesteps\n",
      "Best mean reward: -162.92 - Last mean reward per episode: -156.23\n",
      "Saving new best model\n",
      "45953 timesteps\n",
      "Best mean reward: -156.23 - Last mean reward per episode: -157.15\n",
      "46975 timesteps\n",
      "Best mean reward: -156.23 - Last mean reward per episode: -160.21\n",
      "47831 timesteps\n",
      "Best mean reward: -156.23 - Last mean reward per episode: -164.13\n",
      "48940 timesteps\n",
      "Best mean reward: -156.23 - Last mean reward per episode: -171.08\n",
      "49819 timesteps\n",
      "Best mean reward: -156.23 - Last mean reward per episode: -174.47\n",
      "50976 timesteps\n",
      "Best mean reward: -156.23 - Last mean reward per episode: -180.50\n",
      "51910 timesteps\n",
      "Best mean reward: -156.23 - Last mean reward per episode: -182.48\n",
      "52783 timesteps\n",
      "Best mean reward: -156.23 - Last mean reward per episode: -187.25\n",
      "53850 timesteps\n",
      "Best mean reward: -156.23 - Last mean reward per episode: -194.07\n",
      "54832 timesteps\n",
      "Best mean reward: -156.23 - Last mean reward per episode: -197.89\n",
      "55658 timesteps\n",
      "Best mean reward: -156.23 - Last mean reward per episode: -199.32\n",
      "56798 timesteps\n",
      "Best mean reward: -156.23 - Last mean reward per episode: -199.76\n",
      "57933 timesteps\n",
      "Best mean reward: -156.23 - Last mean reward per episode: -199.29\n",
      "58878 timesteps\n",
      "Best mean reward: -156.23 - Last mean reward per episode: -204.19\n",
      "59864 timesteps\n",
      "Best mean reward: -156.23 - Last mean reward per episode: -210.03\n",
      "60660 timesteps\n",
      "Best mean reward: -156.23 - Last mean reward per episode: -211.11\n",
      "61865 timesteps\n",
      "Best mean reward: -156.23 - Last mean reward per episode: -216.01\n",
      "62827 timesteps\n",
      "Best mean reward: -156.23 - Last mean reward per episode: -217.89\n",
      "63043 timesteps\n",
      "Best mean reward: -156.23 - Last mean reward per episode: -218.57\n",
      "64491 timesteps\n",
      "Best mean reward: -156.23 - Last mean reward per episode: -219.83\n",
      "65557 timesteps\n",
      "Best mean reward: -156.23 - Last mean reward per episode: -217.63\n",
      "66796 timesteps\n",
      "Best mean reward: -156.23 - Last mean reward per episode: -219.37\n",
      "67408 timesteps\n",
      "Best mean reward: -156.23 - Last mean reward per episode: -220.44\n",
      "68521 timesteps\n",
      "Best mean reward: -156.23 - Last mean reward per episode: -220.52\n",
      "69026 timesteps\n",
      "Best mean reward: -156.23 - Last mean reward per episode: -220.21\n",
      "70364 timesteps\n",
      "Best mean reward: -156.23 - Last mean reward per episode: -218.08\n",
      "71364 timesteps\n",
      "Best mean reward: -156.23 - Last mean reward per episode: -217.60\n",
      "72494 timesteps\n",
      "Best mean reward: -156.23 - Last mean reward per episode: -213.24\n",
      "73684 timesteps\n",
      "Best mean reward: -156.23 - Last mean reward per episode: -211.45\n",
      "74899 timesteps\n",
      "Best mean reward: -156.23 - Last mean reward per episode: -209.57\n",
      "75899 timesteps\n",
      "Best mean reward: -156.23 - Last mean reward per episode: -209.22\n",
      "76899 timesteps\n",
      "Best mean reward: -156.23 - Last mean reward per episode: -209.02\n",
      "77899 timesteps\n",
      "Best mean reward: -156.23 - Last mean reward per episode: -208.11\n",
      "78899 timesteps\n",
      "Best mean reward: -156.23 - Last mean reward per episode: -206.41\n",
      "79899 timesteps\n",
      "Best mean reward: -156.23 - Last mean reward per episode: -205.34\n",
      "80912 timesteps\n",
      "Best mean reward: -156.23 - Last mean reward per episode: -207.89\n",
      "81912 timesteps\n",
      "Best mean reward: -156.23 - Last mean reward per episode: -207.56\n",
      "82912 timesteps\n",
      "Best mean reward: -156.23 - Last mean reward per episode: -208.54\n",
      "83912 timesteps\n",
      "Best mean reward: -156.23 - Last mean reward per episode: -206.20\n",
      "84912 timesteps\n",
      "Best mean reward: -156.23 - Last mean reward per episode: -204.68\n",
      "85912 timesteps\n",
      "Best mean reward: -156.23 - Last mean reward per episode: -204.36\n",
      "86137 timesteps\n",
      "Best mean reward: -156.23 - Last mean reward per episode: -203.58\n",
      "87137 timesteps\n",
      "Best mean reward: -156.23 - Last mean reward per episode: -203.68\n",
      "88137 timesteps\n",
      "Best mean reward: -156.23 - Last mean reward per episode: -203.62\n",
      "89137 timesteps\n",
      "Best mean reward: -156.23 - Last mean reward per episode: -203.25\n",
      "90329 timesteps\n",
      "Best mean reward: -156.23 - Last mean reward per episode: -203.88\n",
      "91329 timesteps\n",
      "Best mean reward: -156.23 - Last mean reward per episode: -202.73\n",
      "92329 timesteps\n",
      "Best mean reward: -156.23 - Last mean reward per episode: -200.74\n",
      "93329 timesteps\n",
      "Best mean reward: -156.23 - Last mean reward per episode: -199.26\n"
     ]
    },
    {
     "name": "stdout",
     "output_type": "stream",
     "text": [
      "94452 timesteps\n",
      "Best mean reward: -156.23 - Last mean reward per episode: -195.62\n",
      "95452 timesteps\n",
      "Best mean reward: -156.23 - Last mean reward per episode: -192.19\n",
      "96452 timesteps\n",
      "Best mean reward: -156.23 - Last mean reward per episode: -191.14\n",
      "97452 timesteps\n",
      "Best mean reward: -156.23 - Last mean reward per episode: -189.25\n",
      "98706 timesteps\n",
      "Best mean reward: -156.23 - Last mean reward per episode: -186.75\n",
      "99706 timesteps\n",
      "Best mean reward: -156.23 - Last mean reward per episode: -185.57\n"
     ]
    },
    {
     "data": {
      "image/png": "[encoded data removed]",
      "text/plain": [
       "<Figure size 576x144 with 1 Axes>"
      ]
     },
     "metadata": {
      "needs_background": "light"
     },
     "output_type": "display_data"
    }
   ],
   "source": [
    "# import os\n",
    "\n",
    "import gym\n",
    "import numpy as np\n",
    "import matplotlib.pyplot as plt\n",
    "\n",
    "from stable_baselines.ddpg.policies import LnMlpPolicy\n",
    "from stable_baselines.bench import Monitor\n",
    "from stable_baselines.results_plotter import load_results, ts2xy\n",
    "from stable_baselines.ddpg.ddpg import DDPG\n",
    "from stable_baselines.ddpg.noise import AdaptiveParamNoiseSpec\n",
    "from stable_baselines import results_plotter\n",
    "\n",
    "\n",
    "best_mean_reward, n_steps = -np.inf, 0\n",
    "\n",
    "def callback(_locals, _globals):\n",
    "    \"\"\"\n",
    "    Callback called at each step (for DQN an others) or after n steps (see ACER or PPO2)\n",
    "    :param _locals: (dict)\n",
    "    :param _globals: (dict)\n",
    "    \"\"\"\n",
    "    global n_steps, best_mean_reward\n",
    "    # Print stats every 1000 calls\n",
    "    if (n_steps + 1) % 1000 == 0:\n",
    "        # Evaluate policy training performance\n",
    "        x, y = ts2xy(load_results(log_dir), 'timesteps')\n",
    "        if len(x) > 0:\n",
    "            mean_reward = np.mean(y[-100:])\n",
    "            print(x[-1], 'timesteps')\n",
    "            print(\"Best mean reward: {:.2f} - Last mean reward per episode: {:.2f}\".format(best_mean_reward, mean_reward))\n",
    "\n",
    "            # New best model, you could save the agent here\n",
    "            if mean_reward > best_mean_reward:\n",
    "                best_mean_reward = mean_reward\n",
    "                # Example for saving best model\n",
    "                print(\"Saving new best model\")\n",
    "                _locals['self'].save(log_dir + 'best_model.pkl')\n",
    "    n_steps += 1\n",
    "    return True\n",
    "\n",
    "# Create log dir\n",
    "log_dir = \"tmp/\"\n",
    "os.makedirs(log_dir, exist_ok=True)\n",
    "\n",
    "# Create and wrap the environment\n",
    "env = gym.make('LunarLanderContinuous-v2')\n",
    "env = Monitor(env, log_dir, allow_early_resets=True)\n",
    "\n",
    "# Add some param noise for exploration\n",
    "param_noise = AdaptiveParamNoiseSpec(initial_stddev=0.1, desired_action_stddev=0.1)\n",
    "# Because we use parameter noise, we should use a MlpPolicy with layer normalization\n",
    "model = DDPG(LnMlpPolicy, env, param_noise=param_noise, verbose=0)\n",
    "# Train the agent\n",
    "time_steps = 1e5\n",
    "model.learn(total_timesteps=int(time_steps), callback=callback)\n",
    "\n",
    "results_plotter.plot_results([log_dir], time_steps, results_plotter.X_TIMESTEPS, \"DDPG LunarLander\")\n",
    "plt.show()"
   ]
  },
  {
   "cell_type": "markdown",
   "metadata": {
    "colab_type": "text",
    "id": "FtY8FhliLsGm"
   },
   "source": [
    "## Import policy, RL agent, Wrappers"
   ]
  },
  {
   "cell_type": "code",
   "execution_count": 2,
   "metadata": {
    "colab": {},
    "colab_type": "code",
    "id": "BIedd7Pz9sOs"
   },
   "outputs": [],
   "source": [
    "import os\n",
    "\n",
    "import gym\n",
    "import numpy as np\n",
    "import matplotlib.pyplot as plt\n",
    "\n",
    "from stable_baselines.ddpg.policies import LnMlpPolicy\n",
    "from stable_baselines.bench import Monitor\n",
    "from stable_baselines.results_plotter import load_results, ts2xy\n",
    "from stable_baselines.ddpg import DDPG \n",
    "from stable_baselines.td3 import TD3\n",
    "from stable_baselines.common.noise import AdaptiveParamNoiseSpec, NormalActionNoise"
   ]
  },
  {
   "cell_type": "markdown",
   "metadata": {
    "colab_type": "text",
    "id": "RapkYvTXL7Cd"
   },
   "source": [
    "## Define a Callback Function\n"
   ]
  },
  {
   "cell_type": "code",
   "execution_count": 3,
   "metadata": {
    "colab": {},
    "colab_type": "code",
    "id": "pUWGZp3i9wyf"
   },
   "outputs": [],
   "source": [
    "best_mean_reward, n_steps = -np.inf, 0\n",
    "\n",
    "def callback(_locals, _globals):\n",
    "    \"\"\"\n",
    "    Callback called at each step (for DQN an others) or after n steps (see ACER or PPO2)\n",
    "    :param _locals: (dict)\n",
    "    :param _globals: (dict)\n",
    "    \"\"\"\n",
    "    global n_steps, best_mean_reward\n",
    "    # Print stats every 1000 calls\n",
    "    if (n_steps + 1) % 1000 == 0:\n",
    "        # Evaluate policy training performance\n",
    "        x, y = ts2xy(load_results(log_dir), 'timesteps')\n",
    "        if len(x) > 0:\n",
    "            mean_reward = np.mean(y[-100:])\n",
    "            print(x[-1], 'timesteps')\n",
    "            print(\"Best mean reward: {:.2f} - Last mean reward per episode: {:.2f}\".format(best_mean_reward, mean_reward))\n",
    "\n",
    "            # New best model, you could save the agent here\n",
    "            if mean_reward > best_mean_reward:\n",
    "                best_mean_reward = mean_reward\n",
    "                # Example for saving best model\n",
    "                print(\"Saving new best model\")\n",
    "                _locals['self'].save(log_dir + 'best_model.pkl')\n",
    "    n_steps += 1\n",
    "    # Returning False will stop training early\n",
    "    return True"
   ]
  },
  {
   "cell_type": "markdown",
   "metadata": {
    "colab_type": "text",
    "id": "7c8VHsiXC7dL"
   },
   "source": [
    "## Create and wrap the environment\n",
    "\n",
    "We will be using Lunar Lander environment with continuous actions"
   ]
  },
  {
   "cell_type": "code",
   "execution_count": null,
   "metadata": {
    "colab": {},
    "colab_type": "code",
    "id": "kmxIq5UeC3Nj"
   },
   "outputs": [],
   "source": [
    "# Create log dir\n",
    "log_dir = \"/tmp/ddpg\"\n",
    "os.makedirs(log_dir, exist_ok=True)\n",
    "# Create and wrap the environment\n",
    "env = gym.make('LunarLanderContinuous-v2')\n",
    "# Logs will be saved in log_dir/monitor.csv\n",
    "env = Monitor(env, log_dir, allow_early_resets=True)"
   ]
  },
  {
   "cell_type": "markdown",
   "metadata": {
    "colab_type": "text",
    "id": "80OxZ_uMDd4J"
   },
   "source": [
    "## Define and train the DDPG agent"
   ]
  },
  {
   "cell_type": "code",
   "execution_count": null,
   "metadata": {
    "colab": {},
    "colab_type": "code",
    "id": "iaOPfOrwWEP4"
   },
   "outputs": [],
   "source": [
    "# Add some param noise for exploration\n",
    "param_noise = AdaptiveParamNoiseSpec(initial_stddev=0.1, desired_action_stddev=0.1)\n",
    "# Because we use parameter noise, we should use a MlpPolicy with layer normalization\n",
    "model = DDPG(LnMlpPolicy, env, param_noise=param_noise, verbose=0)\n",
    "# Train the agent\n",
    "model.learn(total_timesteps=int(1e5), callback=callback)"
   ]
  },
  {
   "cell_type": "markdown",
   "metadata": {
    "colab_type": "text",
    "id": "qQ4bxRQZDuk1"
   },
   "source": [
    "## Plotting helpers\n",
    "\n",
    "Stable Baselines has some built-in plotting helper, that you can find in `stable_baselines.results_plotter`. However, to show how to do it yourself, we are going to use custom plotting functions. "
   ]
  },
  {
   "cell_type": "code",
   "execution_count": 4,
   "metadata": {},
   "outputs": [],
   "source": [
    "log_dir = \"tmp/\""
   ]
  },
  {
   "cell_type": "code",
   "execution_count": 5,
   "metadata": {
    "colab": {},
    "colab_type": "code",
    "id": "h_kMEHmJm3P3"
   },
   "outputs": [
    {
     "data": {
      "image/png": "[encoded data removed]",
      "text/plain": [
       "<Figure size 576x144 with 1 Axes>"
      ]
     },
     "metadata": {
      "needs_background": "light"
     },
     "output_type": "display_data"
    }
   ],
   "source": [
    "from stable_baselines import results_plotter\n",
    "\n",
    "# Helper from the library\n",
    "results_plotter.plot_results([log_dir], 1e5, results_plotter.X_TIMESTEPS, \"DDPG LunarLander\")"
   ]
  },
  {
   "cell_type": "code",
   "execution_count": 6,
   "metadata": {
    "colab": {},
    "colab_type": "code",
    "id": "mPXYbV39DiCj"
   },
   "outputs": [],
   "source": [
    "def moving_average(values, window):\n",
    "    \"\"\"\n",
    "    Smooth values by doing a moving average\n",
    "    :param values: (numpy array)\n",
    "    :param window: (int)\n",
    "    :return: (numpy array)\n",
    "    \"\"\"\n",
    "    weights = np.repeat(1.0, window) / window\n",
    "    return np.convolve(values, weights, 'valid')\n",
    "\n",
    "\n",
    "def plot_results(log_folder, title='Learning Curve'):\n",
    "    \"\"\"\n",
    "    plot the results\n",
    "\n",
    "    :param log_folder: (str) the save location of the results to plot\n",
    "    :param title: (str) the title of the task to plot\n",
    "    \"\"\"\n",
    "    x, y = ts2xy(load_results(log_folder), 'timesteps')\n",
    "    y = moving_average(y, window=50)\n",
    "    # Truncate x\n",
    "    x = x[len(x) - len(y):]\n",
    "\n",
    "    fig = plt.figure(title)\n",
    "    plt.plot(x, y)\n",
    "    plt.xlabel('Number of Timesteps')\n",
    "    plt.ylabel('Rewards')\n",
    "    plt.title(title + \" Smoothed\")\n",
    "    plt.show()\n"
   ]
  },
  {
   "cell_type": "code",
   "execution_count": 7,
   "metadata": {
    "colab": {},
    "colab_type": "code",
    "id": "CQXx7HiSDt7_"
   },
   "outputs": [
    {
     "data": {
      "image/png": "[encoded data removed]",
      "text/plain": [
       "<Figure size 432x288 with 1 Axes>"
      ]
     },
     "metadata": {
      "needs_background": "light"
     },
     "output_type": "display_data"
    }
   ],
   "source": [
    "plot_results(log_dir)"
   ]
  },
  {
   "cell_type": "markdown",
   "metadata": {
    "colab_type": "text",
    "id": "WalAw3xy6_KF"
   },
   "source": [
    "## TD3 vs DDPG\n",
    "\n",
    "TD3 is the successor of DDPG (cf [Documentation](https://stable-baselines.readthedocs.io/))  \n",
    "\n",
    "\n",
    "As you can read from the [TD3 documentation](https://stable-baselines.readthedocs.io/en/master/modules/td3.html) :  \n",
    "*The TD3 model does not support stable_baselines.common.policies because it uses double q-values estimation, as a result it must use its own policy models (see [TD3 Policies](https://stable-baselines.readthedocs.io/en/master/modules/td3.html#td3-policies)).*\n",
    "\n",
    "as a result, the following comment from [custom policy](https://stable-baselines.readthedocs.io/en/master/guide/custom_policy.html) is not relevant here :  \n",
    "*Deprecated since version 2.3.0: Use `net_arch` instead of `layers` parameter to define the network architecture. It allows to have a greater control.*  \n",
    "\n",
    "if we look at `td3.policies.FeedForwardPolic` we see that it still accepts `layers` as the key for `policy_kwargs`."
   ]
  },
  {
   "cell_type": "code",
   "execution_count": 8,
   "metadata": {
    "colab": {},
    "colab_type": "code",
    "id": "9mIfkTEe7BF6"
   },
   "outputs": [],
   "source": [
    "# Create log dir\n",
    "log_dir = \"./tmp/td3/\"\n",
    "os.makedirs(log_dir, exist_ok=True)\n",
    "\n",
    "# Create and wrap the environment\n",
    "env = gym.make('LunarLanderContinuous-v2')\n",
    "# Logs will be saved in log_dir/monitor.csv\n",
    "env = Monitor(env, log_dir, allow_early_resets=True)"
   ]
  },
  {
   "cell_type": "code",
   "execution_count": 9,
   "metadata": {
    "colab": {},
    "colab_type": "code",
    "id": "iUBiLbC77XP3"
   },
   "outputs": [],
   "source": [
    "# Create action noise because TD3 and DDPG use a deterministic policy\n",
    "n_actions = env.action_space.shape[-1]\n",
    "action_noise = NormalActionNoise(mean=np.zeros(n_actions), sigma=0.1 * np.ones(n_actions))"
   ]
  },
  {
   "cell_type": "code",
   "execution_count": 10,
   "metadata": {
    "colab": {},
    "colab_type": "code",
    "id": "X3rcf3kO79fR"
   },
   "outputs": [],
   "source": [
    "# net_kwargs = dict(layers=[400, 300])\n",
    "# model_td3 = TD3(\"MlpPolicy\", env, action_noise=action_noise, verbose=0)\n",
    "# see comment above \n",
    "policy_kwargs = dict(layers=[400, 300])\n",
    "model_td3 = TD3(\"MlpPolicy\", env, action_noise=action_noise, policy_kwargs=policy_kwargs, verbose=0)"
   ]
  },
  {
   "cell_type": "code",
   "execution_count": 11,
   "metadata": {
    "colab": {},
    "colab_type": "code",
    "id": "DlrW7j3o742J"
   },
   "outputs": [],
   "source": [
    "# Avoid the need of global variables\n",
    "model_td3.best_mean_reward, model_td3.n_steps = -np.inf, 0\n",
    "\n",
    "def callback(_locals, _globals):\n",
    "    \"\"\"\n",
    "    Callback called at each step (for DQN an others) or after n steps (see ACER or PPO2)\n",
    "    :param _locals: (dict)\n",
    "    :param _globals: (dict)\n",
    "    \"\"\"\n",
    "    # Retrieve the self object\n",
    "    self_ = _locals['self']\n",
    "    # Print stats every 1000 calls\n",
    "    if (self_.n_steps + 1) % 1000 == 0:\n",
    "        # Evaluate policy training performance\n",
    "        x, y = ts2xy(load_results(log_dir), 'timesteps')\n",
    "        if len(x) > 0:\n",
    "            mean_reward = np.mean(y[-100:])\n",
    "            print(x[-1], 'timesteps')\n",
    "            print(\"Best mean reward: {:.2f} - Last mean reward per episode: {:.2f}\".format(self_.best_mean_reward, mean_reward))\n",
    "\n",
    "            # New best model, you could save the agent here\n",
    "            if mean_reward > self_.best_mean_reward:\n",
    "                self_.best_mean_reward = mean_reward\n",
    "                # Example for saving best model\n",
    "                print(\"Saving new best model\")\n",
    "                self_.save(log_dir + 'best_model.pkl')\n",
    "    self_.n_steps += 1\n",
    "    # Returning False will stop training early\n",
    "    return True"
   ]
  },
  {
   "cell_type": "code",
   "execution_count": 12,
   "metadata": {
    "colab": {},
    "colab_type": "code",
    "id": "C4BxFyzs7Opp"
   },
   "outputs": [
    {
     "name": "stdout",
     "output_type": "stream",
     "text": [
      "996 timesteps\n",
      "Best mean reward: -inf - Last mean reward per episode: -359.97\n",
      "Saving new best model\n",
      "1861 timesteps\n",
      "Best mean reward: -359.97 - Last mean reward per episode: -335.70\n",
      "Saving new best model\n",
      "2776 timesteps\n",
      "Best mean reward: -335.70 - Last mean reward per episode: -298.21\n",
      "Saving new best model\n",
      "3996 timesteps\n",
      "Best mean reward: -298.21 - Last mean reward per episode: -284.03\n",
      "Saving new best model\n",
      "4996 timesteps\n",
      "Best mean reward: -284.03 - Last mean reward per episode: -273.73\n",
      "Saving new best model\n",
      "5943 timesteps\n",
      "Best mean reward: -273.73 - Last mean reward per episode: -257.67\n",
      "Saving new best model\n",
      "6637 timesteps\n",
      "Best mean reward: -257.67 - Last mean reward per episode: -255.65\n",
      "Saving new best model\n",
      "7817 timesteps\n",
      "Best mean reward: -255.65 - Last mean reward per episode: -249.05\n",
      "Saving new best model\n",
      "8973 timesteps\n",
      "Best mean reward: -249.05 - Last mean reward per episode: -239.26\n",
      "Saving new best model\n",
      "9944 timesteps\n",
      "Best mean reward: -239.26 - Last mean reward per episode: -238.22\n",
      "Saving new best model\n",
      "10905 timesteps\n",
      "Best mean reward: -238.22 - Last mean reward per episode: -246.44\n",
      "11728 timesteps\n",
      "Best mean reward: -238.22 - Last mean reward per episode: -247.81\n",
      "12890 timesteps\n",
      "Best mean reward: -238.22 - Last mean reward per episode: -247.25\n",
      "13865 timesteps\n",
      "Best mean reward: -238.22 - Last mean reward per episode: -244.78\n",
      "14950 timesteps\n",
      "Best mean reward: -238.22 - Last mean reward per episode: -245.33\n",
      "15945 timesteps\n",
      "Best mean reward: -238.22 - Last mean reward per episode: -244.42\n",
      "16647 timesteps\n",
      "Best mean reward: -238.22 - Last mean reward per episode: -242.97\n",
      "17835 timesteps\n",
      "Best mean reward: -238.22 - Last mean reward per episode: -241.68\n",
      "18789 timesteps\n",
      "Best mean reward: -238.22 - Last mean reward per episode: -236.10\n",
      "Saving new best model\n",
      "19796 timesteps\n",
      "Best mean reward: -236.10 - Last mean reward per episode: -233.81\n",
      "Saving new best model\n",
      "20798 timesteps\n",
      "Best mean reward: -233.81 - Last mean reward per episode: -228.89\n",
      "Saving new best model\n",
      "21654 timesteps\n",
      "Best mean reward: -228.89 - Last mean reward per episode: -225.68\n",
      "Saving new best model\n",
      "22922 timesteps\n",
      "Best mean reward: -225.68 - Last mean reward per episode: -228.87\n",
      "23793 timesteps\n",
      "Best mean reward: -225.68 - Last mean reward per episode: -225.13\n",
      "Saving new best model\n",
      "24748 timesteps\n",
      "Best mean reward: -225.13 - Last mean reward per episode: -221.70\n",
      "Saving new best model\n",
      "25433 timesteps\n",
      "Best mean reward: -221.70 - Last mean reward per episode: -220.18\n",
      "Saving new best model\n",
      "26374 timesteps\n",
      "Best mean reward: -220.18 - Last mean reward per episode: -221.32\n",
      "27111 timesteps\n",
      "Best mean reward: -220.18 - Last mean reward per episode: -220.37\n",
      "28111 timesteps\n",
      "Best mean reward: -220.18 - Last mean reward per episode: -219.11\n",
      "Saving new best model\n",
      "29111 timesteps\n",
      "Best mean reward: -219.11 - Last mean reward per episode: -217.68\n",
      "Saving new best model\n",
      "30111 timesteps\n",
      "Best mean reward: -217.68 - Last mean reward per episode: -215.11\n",
      "Saving new best model\n",
      "31912 timesteps\n",
      "Best mean reward: -215.11 - Last mean reward per episode: -213.39\n",
      "Saving new best model\n",
      "32385 timesteps\n",
      "Best mean reward: -213.39 - Last mean reward per episode: -210.61\n",
      "Saving new best model\n",
      "33342 timesteps\n",
      "Best mean reward: -210.61 - Last mean reward per episode: -213.62\n",
      "34910 timesteps\n",
      "Best mean reward: -210.61 - Last mean reward per episode: -204.81\n",
      "Saving new best model\n",
      "35797 timesteps\n",
      "Best mean reward: -204.81 - Last mean reward per episode: -198.60\n",
      "Saving new best model\n",
      "36786 timesteps\n",
      "Best mean reward: -198.60 - Last mean reward per episode: -196.50\n",
      "Saving new best model\n",
      "37523 timesteps\n",
      "Best mean reward: -196.50 - Last mean reward per episode: -191.89\n",
      "Saving new best model\n",
      "38935 timesteps\n",
      "Best mean reward: -191.89 - Last mean reward per episode: -181.87\n",
      "Saving new best model\n",
      "39520 timesteps\n",
      "Best mean reward: -181.87 - Last mean reward per episode: -177.79\n",
      "Saving new best model\n",
      "40798 timesteps\n",
      "Best mean reward: -177.79 - Last mean reward per episode: -171.79\n",
      "Saving new best model\n",
      "41859 timesteps\n",
      "Best mean reward: -171.79 - Last mean reward per episode: -169.61\n",
      "Saving new best model\n",
      "42585 timesteps\n",
      "Best mean reward: -169.61 - Last mean reward per episode: -166.68\n",
      "Saving new best model\n",
      "43753 timesteps\n",
      "Best mean reward: -166.68 - Last mean reward per episode: -162.84\n",
      "Saving new best model\n",
      "44790 timesteps\n",
      "Best mean reward: -162.84 - Last mean reward per episode: -161.49\n",
      "Saving new best model\n",
      "45847 timesteps\n",
      "Best mean reward: -161.49 - Last mean reward per episode: -157.45\n",
      "Saving new best model\n",
      "46469 timesteps\n",
      "Best mean reward: -157.45 - Last mean reward per episode: -155.51\n",
      "Saving new best model\n",
      "47777 timesteps\n",
      "Best mean reward: -155.51 - Last mean reward per episode: -151.08\n",
      "Saving new best model\n",
      "48924 timesteps\n",
      "Best mean reward: -151.08 - Last mean reward per episode: -148.01\n",
      "Saving new best model\n",
      "49924 timesteps\n",
      "Best mean reward: -148.01 - Last mean reward per episode: -145.65\n",
      "Saving new best model\n",
      "50924 timesteps\n",
      "Best mean reward: -145.65 - Last mean reward per episode: -144.58\n",
      "Saving new best model\n",
      "51924 timesteps\n",
      "Best mean reward: -144.58 - Last mean reward per episode: -143.70\n",
      "Saving new best model\n",
      "52994 timesteps\n",
      "Best mean reward: -143.70 - Last mean reward per episode: -143.66\n",
      "Saving new best model\n",
      "53751 timesteps\n",
      "Best mean reward: -143.66 - Last mean reward per episode: -142.64\n",
      "Saving new best model\n",
      "54951 timesteps\n",
      "Best mean reward: -142.64 - Last mean reward per episode: -139.02\n",
      "Saving new best model\n",
      "55965 timesteps\n",
      "Best mean reward: -139.02 - Last mean reward per episode: -131.85\n",
      "Saving new best model\n",
      "56990 timesteps\n",
      "Best mean reward: -131.85 - Last mean reward per episode: -120.67\n",
      "Saving new best model\n",
      "57981 timesteps\n",
      "Best mean reward: -120.67 - Last mean reward per episode: -110.82\n",
      "Saving new best model\n",
      "58850 timesteps\n",
      "Best mean reward: -110.82 - Last mean reward per episode: -109.02\n",
      "Saving new best model\n",
      "59996 timesteps\n",
      "Best mean reward: -109.02 - Last mean reward per episode: -106.06\n",
      "Saving new best model\n",
      "60996 timesteps\n",
      "Best mean reward: -106.06 - Last mean reward per episode: -106.62\n",
      "61996 timesteps\n",
      "Best mean reward: -106.06 - Last mean reward per episode: -106.41\n",
      "62996 timesteps\n",
      "Best mean reward: -106.06 - Last mean reward per episode: -107.63\n",
      "63776 timesteps\n",
      "Best mean reward: -106.06 - Last mean reward per episode: -107.72\n",
      "64776 timesteps\n",
      "Best mean reward: -106.06 - Last mean reward per episode: -106.95\n",
      "65776 timesteps\n",
      "Best mean reward: -106.06 - Last mean reward per episode: -105.78\n",
      "Saving new best model\n",
      "66439 timesteps\n",
      "Best mean reward: -105.78 - Last mean reward per episode: -106.41\n",
      "67439 timesteps\n",
      "Best mean reward: -105.78 - Last mean reward per episode: -106.22\n",
      "68867 timesteps\n",
      "Best mean reward: -105.78 - Last mean reward per episode: -107.16\n",
      "69867 timesteps\n",
      "Best mean reward: -105.78 - Last mean reward per episode: -107.49\n",
      "70867 timesteps\n",
      "Best mean reward: -105.78 - Last mean reward per episode: -104.62\n",
      "Saving new best model\n",
      "71867 timesteps\n",
      "Best mean reward: -104.62 - Last mean reward per episode: -102.75\n",
      "Saving new best model\n",
      "72867 timesteps\n",
      "Best mean reward: -102.75 - Last mean reward per episode: -100.19\n",
      "Saving new best model\n",
      "73768 timesteps\n",
      "Best mean reward: -100.19 - Last mean reward per episode: -101.17\n",
      "74463 timesteps\n",
      "Best mean reward: -100.19 - Last mean reward per episode: -101.67\n",
      "75463 timesteps\n",
      "Best mean reward: -100.19 - Last mean reward per episode: -101.31\n",
      "76463 timesteps\n",
      "Best mean reward: -100.19 - Last mean reward per episode: -101.18\n",
      "77023 timesteps\n",
      "Best mean reward: -100.19 - Last mean reward per episode: -102.34\n",
      "78731 timesteps\n",
      "Best mean reward: -100.19 - Last mean reward per episode: -102.36\n",
      "79731 timesteps\n",
      "Best mean reward: -100.19 - Last mean reward per episode: -101.65\n",
      "80783 timesteps\n",
      "Best mean reward: -100.19 - Last mean reward per episode: -100.87\n",
      "81341 timesteps\n",
      "Best mean reward: -100.19 - Last mean reward per episode: -101.15\n",
      "82341 timesteps\n",
      "Best mean reward: -100.19 - Last mean reward per episode: -100.76\n",
      "83341 timesteps\n",
      "Best mean reward: -100.19 - Last mean reward per episode: -101.62\n",
      "84341 timesteps\n",
      "Best mean reward: -100.19 - Last mean reward per episode: -101.80\n",
      "85341 timesteps\n",
      "Best mean reward: -100.19 - Last mean reward per episode: -101.09\n",
      "86341 timesteps\n",
      "Best mean reward: -100.19 - Last mean reward per episode: -100.82\n"
     ]
    },
    {
     "name": "stdout",
     "output_type": "stream",
     "text": [
      "87423 timesteps\n",
      "Best mean reward: -100.19 - Last mean reward per episode: -96.43\n",
      "Saving new best model\n",
      "88423 timesteps\n",
      "Best mean reward: -96.43 - Last mean reward per episode: -93.93\n",
      "Saving new best model\n",
      "89423 timesteps\n",
      "Best mean reward: -93.93 - Last mean reward per episode: -94.48\n",
      "90423 timesteps\n",
      "Best mean reward: -93.93 - Last mean reward per episode: -94.25\n",
      "91423 timesteps\n",
      "Best mean reward: -93.93 - Last mean reward per episode: -94.59\n",
      "92423 timesteps\n",
      "Best mean reward: -93.93 - Last mean reward per episode: -95.93\n",
      "93423 timesteps\n",
      "Best mean reward: -93.93 - Last mean reward per episode: -96.75\n",
      "94423 timesteps\n",
      "Best mean reward: -93.93 - Last mean reward per episode: -96.46\n",
      "95423 timesteps\n",
      "Best mean reward: -93.93 - Last mean reward per episode: -96.95\n",
      "96423 timesteps\n",
      "Best mean reward: -93.93 - Last mean reward per episode: -97.85\n",
      "97423 timesteps\n",
      "Best mean reward: -93.93 - Last mean reward per episode: -100.46\n",
      "98423 timesteps\n",
      "Best mean reward: -93.93 - Last mean reward per episode: -102.95\n",
      "99423 timesteps\n",
      "Best mean reward: -93.93 - Last mean reward per episode: -106.54\n"
     ]
    },
    {
     "data": {
      "text/plain": [
       "<stable_baselines.td3.td3.TD3 at 0x7fda4d490f90>"
      ]
     },
     "execution_count": 12,
     "metadata": {},
     "output_type": "execute_result"
    }
   ],
   "source": [
    "# Train the agent\n",
    "model_td3.learn(total_timesteps=int(1e5), callback=callback)"
   ]
  },
  {
   "cell_type": "code",
   "execution_count": 13,
   "metadata": {
    "colab": {},
    "colab_type": "code",
    "id": "hLOnill58bK-"
   },
   "outputs": [
    {
     "data": {
      "image/png": "[encoded data removed]",
      "text/plain": [
       "<Figure size 432x288 with 1 Axes>"
      ]
     },
     "metadata": {
      "needs_background": "light"
     },
     "output_type": "display_data"
    }
   ],
   "source": [
    "plot_results(log_dir)"
   ]
  },
  {
   "cell_type": "code",
   "execution_count": 15,
   "metadata": {
    "colab": {},
    "colab_type": "code",
    "id": "h-OLkiFa8hhz"
   },
   "outputs": [
    {
     "data": {
      "text/plain": [
       "'tmp/'"
      ]
     },
     "execution_count": 15,
     "metadata": {},
     "output_type": "execute_result"
    }
   ],
   "source": [
    "log_dir"
   ]
  }
 ],
 "metadata": {
  "colab": {
   "collapsed_sections": [],
   "name": "monitor_training.ipynb",
   "provenance": []
  },
  "kernelspec": {
   "display_name": "Python [conda env:rl15] *",
   "language": "python",
   "name": "conda-env-rl15-py"
  },
  "language_info": {
   "codemirror_mode": {
    "name": "ipython",
    "version": 3
   },
   "file_extension": ".py",
   "mimetype": "text/x-python",
   "name": "python",
   "nbconvert_exporter": "python",
   "pygments_lexer": "ipython3",
   "version": "3.7.6"
  },
  "toc": {
   "base_numbering": 1,
   "nav_menu": {},
   "number_sections": true,
   "sideBar": true,
   "skip_h1_title": false,
   "title_cell": "Table of Contents",
   "title_sidebar": "Contents",
   "toc_cell": false,
   "toc_position": {},
   "toc_section_display": true,
   "toc_window_display": false
  }
 },
 "nbformat": 4,
 "nbformat_minor": 1
}
