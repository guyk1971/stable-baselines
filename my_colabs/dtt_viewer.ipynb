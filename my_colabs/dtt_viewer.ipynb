{
 "cells": [
  {
   "cell_type": "code",
   "execution_count": null,
   "metadata": {},
   "outputs": [],
   "source": [
    "import os\n",
    "import fnmatch\n",
    "import pandas as pd\n",
    "import numpy as np\n",
    "from datetime import datetime\n",
    "import ipywidgets as widgets\n",
    "from ipywidgets import interact, interact_manual,Checkbox\n",
    "from scipy.stats import pearsonr,spearmanr\n",
    "from sklearn.linear_model import LinearRegression\n",
    "import matplotlib.pyplot as plt\n",
    "%matplotlib notebook\n",
    "import plotly.express as px\n",
    "from sklearn import preprocessing\n",
    "from IPython.core.display import display, HTML\n",
    "from IPython.core.debugger import set_trace\n",
    "display(HTML('<style>.container { width:90% !important; }</style>')) \n",
    "\n",
    "!pwd"
   ]
  },
  {
   "cell_type": "code",
   "execution_count": null,
   "metadata": {},
   "outputs": [],
   "source": [
    "def find(pattern, path):\n",
    "    result = []\n",
    "    for root, dirs, files in os.walk(path):\n",
    "        for name in files:\n",
    "            if fnmatch.fnmatch(name, pattern):\n",
    "                result.append(os.path.join(root, name))\n",
    "    return result"
   ]
  },
  {
   "cell_type": "code",
   "execution_count": null,
   "metadata": {},
   "outputs": [],
   "source": [
    "# add meta data from score file\n",
    "# tslog_parser = lambda x: datetime.strptime(x, '%B%d %H:%M:%S')\n",
    "# sdf = pd.read_excel(score_file,  parse_dates = ['start_time', 'end_time'], date_parser = tslog_parser)\n",
    "\n",
    "def get_trace_score(tt):\n",
    "    score=0\n",
    "    trace='_idle'\n",
    "    sc=sdf.loc[(sdf['start_time']<tt) & (sdf['end_time']>tt) ,['score','trace_name','num_of_sec_between']].values\n",
    "    if len(sc)>0:\n",
    "        score=sc[0][0]\n",
    "        trace=sc[0][1]+'_'+str(sc[0][2])\n",
    "    return score,trace\n"
   ]
  },
  {
   "cell_type": "markdown",
   "metadata": {},
   "source": [
    "# Real Environment"
   ]
  },
  {
   "cell_type": "code",
   "execution_count": null,
   "metadata": {},
   "outputs": [],
   "source": [
    "data_path='/home/gkoren2/share/Data/MLA/DTT/scarlet/experiments'\n",
    "# data_path='C:\\\\Users\\\\gkoren2\\\\Documents\\\\PycharmProjects\\\\work\\\\DTT\\\\experiments'\n",
    "# data_path='D:\\\\MLA\\\\Data\\\\DTT\\\\Scarlet\\\\experiments'"
   ]
  },
  {
   "cell_type": "code",
   "execution_count": null,
   "metadata": {},
   "outputs": [],
   "source": [
    "sorted(os.listdir(data_path))"
   ]
  },
  {
   "cell_type": "code",
   "execution_count": null,
   "metadata": {},
   "outputs": [],
   "source": [
    "folder_name='psvt_at-9_25_45_64-greedy_1'\n",
    "folder_name=os.path.join(data_path,folder_name)\n",
    "esif_file=find('*_esif.csv',os.path.join(data_path,folder_name))[0]\n",
    "tat_file=find('*_TAT.csv',os.path.join(data_path,folder_name))[0]\n",
    "score_file=find('*.xlsx',folder_name)[0]\n",
    "print(esif_file)\n",
    "print(tat_file)\n",
    "print(score_file)"
   ]
  },
  {
   "cell_type": "code",
   "execution_count": null,
   "metadata": {},
   "outputs": [],
   "source": [
    "# add meta data from score file\n",
    "tslog_parser = lambda x: datetime.strptime(x, '%B%d %H:%M:%S')\n",
    "sdf = pd.read_excel(score_file,  parse_dates = ['start_time', 'end_time'], date_parser = tslog_parser)"
   ]
  },
  {
   "cell_type": "markdown",
   "metadata": {},
   "source": [
    "## Analyzing TAT"
   ]
  },
  {
   "cell_type": "code",
   "execution_count": null,
   "metadata": {},
   "outputs": [],
   "source": [
    "tat_df=pd.read_csv(tat_file)\n",
    "tat_df['timestamp']=pd.to_datetime(tat_df['timestamp'])\n",
    "tat_df=tat_df.sort_values(by= 'timestamp')\n",
    "tat_df.reset_index(inplace=True)\n",
    "# extract dominant power levels\n",
    "tat_df['PL1']=np.minimum(tat_df['Turbo Parameters-MMIO Power Limit_1 Power(Watts)'],tat_df['Turbo Parameters-MSR Power Limit_1 Power(Watts)'])\n",
    "tat_df['PL2']=np.minimum(tat_df['Turbo Parameters-MMIO Power Limit_2 Power(Watts)'],tat_df['Turbo Parameters-MSR Power Limit_2 Power(Watts)'])\n",
    "# calculate turbo budget\n",
    "tat_df['ewma']=(tat_df['PL1'] - tat_df['POWER']).ewm(com=27.5, adjust=False).mean()\n",
    "tat_df.columns"
   ]
  },
  {
   "cell_type": "code",
   "execution_count": null,
   "metadata": {},
   "outputs": [],
   "source": [
    "tat_df['timestamp']"
   ]
  },
  {
   "cell_type": "code",
   "execution_count": null,
   "metadata": {},
   "outputs": [],
   "source": [
    "# show trace name and score\n",
    "tat_df['score']=0\n",
    "tat_df['trace_name']=''\n",
    "tat_df.loc[:,['score','trace_name']]=np.array([[a,b] for a,b in tat_df['timestamp'].apply(get_trace_score)])\n",
    "le=preprocessing.LabelEncoder()\n",
    "tat_df['trace_code'] = 10* le.fit_transform(tat_df['trace_name'])\n",
    "tcd={10*c:le.classes_[c] for c in range(len(le.classes_))}\n",
    "cols_to_draw=['trace_code']\n",
    "print(tcd)"
   ]
  },
  {
   "cell_type": "code",
   "execution_count": null,
   "metadata": {},
   "outputs": [],
   "source": [
    "# show clip reason\n",
    "le2=preprocessing.LabelEncoder()\n",
    "tat_df['turbo_clip_code'] = 10* le2.fit_transform(tat_df['Turbo Parameters-IA Clip Reason'])\n",
    "ccd={10*c:le2.classes_[c] for c in range(len(le2.classes_))}\n",
    "print(ccd)"
   ]
  },
  {
   "cell_type": "code",
   "execution_count": null,
   "metadata": {},
   "outputs": [],
   "source": [
    "# cols_to_draw+=['tj', 'POWER', 'PL1','PL2','ewma']\n",
    "cols_to_draw=['POWER', 'PL1','PL2','ewma','tj','TMEM-temp(Degree C)','TSKN-temp(Degree C)','trace_code']\n",
    "tat_df.melt(id_vars=['timestamp'], value_vars=cols_to_draw)\n",
    "px.line(tat_df.melt(id_vars=['timestamp'], value_vars=cols_to_draw),x='timestamp',y='value',color='variable')"
   ]
  },
  {
   "cell_type": "markdown",
   "metadata": {},
   "source": [
    "## Analyzing ESIF"
   ]
  },
  {
   "cell_type": "code",
   "execution_count": null,
   "metadata": {},
   "outputs": [],
   "source": [
    "esif_df=pd.read_csv(esif_file)\n",
    "esif_df['timestamp']=pd.to_datetime(esif_df['timestamp'])\n",
    "esif_df=esif_df.sort_values(by= 'timestamp')\n",
    "esif_df.reset_index(inplace=True)\n",
    "# scal the MMIO PL\n",
    "esif_df.loc[:,['MMIO_PL1','MMIO_PL2']] = esif_df.loc[:,['MMIO_PL1','MMIO_PL2']]/1000\n",
    "# scale the ips\n",
    "ips_cols=['cpu{}_inst_delta'.format(i) for i in range(8)]\n",
    "esif_df['ips']=esif_df.loc[:,ips_cols].mean(axis=1)/1e8\n",
    "# calc ewma\n",
    "esif_df['ewma']=(esif_df['MMIO_PL1'] - esif_df['POWER']).ewm(com=27.5, adjust=False).mean()\n",
    "print(esif_df.shape)\n",
    "esif_df.columns"
   ]
  },
  {
   "cell_type": "code",
   "execution_count": null,
   "metadata": {},
   "outputs": [],
   "source": [
    "edf=esif_df.loc[:,['IA Clip','timestamp']]\n",
    "edf=edf.set_index('timestamp')\n",
    "edf.head()"
   ]
  },
  {
   "cell_type": "code",
   "execution_count": null,
   "metadata": {},
   "outputs": [],
   "source": [
    "tdf=tat_df.loc[:,['Turbo Parameters-IA Clip Reason','timestamp']]\n",
    "tdf=tdf.set_index('timestamp')\n",
    "tdf.head()"
   ]
  },
  {
   "cell_type": "code",
   "execution_count": null,
   "metadata": {},
   "outputs": [],
   "source": [
    "res=pd.concat([edf,tdf],axis=1,join='inner')"
   ]
  },
  {
   "cell_type": "code",
   "execution_count": null,
   "metadata": {},
   "outputs": [],
   "source": [
    "esif_df.index"
   ]
  },
  {
   "cell_type": "code",
   "execution_count": null,
   "metadata": {},
   "outputs": [],
   "source": [
    "{k:hex(k) for k in esif_df['IA Clip'].value_counts().keys()}"
   ]
  },
  {
   "cell_type": "code",
   "execution_count": null,
   "metadata": {},
   "outputs": [],
   "source": [
    "cr=[tat_df.loc[tat_df['timestamp']==t,'Turbo Parameters-IA Clip Reason'].values for t in esif_df.loc[esif_df['IA Clip']==1023543296,'timestamp']]\n",
    "cr"
   ]
  },
  {
   "cell_type": "code",
   "execution_count": null,
   "metadata": {},
   "outputs": [],
   "source": [
    "print(sum(['Max Turbo Limit' in str(v) for v in cr])/len(cr))\n",
    "print(sum(['RAPL PL2' in str(v) for v in cr])/len(cr))\n"
   ]
  },
  {
   "cell_type": "code",
   "execution_count": null,
   "metadata": {},
   "outputs": [],
   "source": [
    "print(sum(['Thermal Event' in str(v) for v in cr])/len(cr))"
   ]
  },
  {
   "cell_type": "code",
   "execution_count": null,
   "metadata": {},
   "outputs": [],
   "source": [
    "esif_df.loc[:10,'timestamp']"
   ]
  },
  {
   "cell_type": "code",
   "execution_count": null,
   "metadata": {},
   "outputs": [],
   "source": [
    "######## Slow cell #############################\n",
    "# add meta data about trace name and score \n",
    "esif_df['score']=0\n",
    "esif_df['trace_name']=''\n",
    "\n",
    "esif_df.loc[:,['score','trace_name']]=np.array([[a,b] for a,b in esif_df['timestamp'].apply(get_trace_score)])\n",
    "le=preprocessing.LabelEncoder()\n",
    "esif_df['trace_code'] = 10* le.fit_transform(esif_df['trace_name'])\n",
    "tcd={10*c:le.classes_[c] for c in range(len(le.classes_))}\n",
    "cols_to_draw=['trace_code']\n",
    "print(tcd)"
   ]
  },
  {
   "cell_type": "code",
   "execution_count": null,
   "metadata": {},
   "outputs": [],
   "source": [
    "cols_to_draw+=['tj', 'POWER','tskin','MMIO_PL1','MMIO_PL2']\n",
    "px.line(esif_df.melt(id_vars=['timestamp'], value_vars=cols_to_draw),x='timestamp',y='value',color='variable')"
   ]
  },
  {
   "cell_type": "code",
   "execution_count": null,
   "metadata": {},
   "outputs": [],
   "source": [
    "# esif_df.loc[:,['POWER','MMIO_PL1','MMIO_PL2','tj','tskin']].plot(figsize=(16,4),grid=True)\n",
    "# esif_df.loc[:,['MMIO_PL1','MMIO_PL2']].plot(figsize=(16,4),grid=True)\n",
    "esif_df.loc[:,['POWER','tj','tskin','MMIO_PL1','MMIO_PL2']].plot(figsize=(16,4),grid=True)"
   ]
  },
  {
   "cell_type": "markdown",
   "metadata": {},
   "source": [
    "# DTT Sim"
   ]
  },
  {
   "cell_type": "code",
   "execution_count": null,
   "metadata": {},
   "outputs": [],
   "source": [
    "sim_data_path='/home/gkoren2/PycharmProjects/remote/MLA/RL/DTT/dtt_rl/train/tmp'\n",
    "# sim_data_path='/home/gkoren2/share/Data/MLA/DTT/results/stbl/onl_dttsim_dqn-15-06-2020_17-31-23/1'\n",
    "# sim_data_path= '/home/gkoren2/share/Data/MLA/DTT/results/stbl/onl_dttsim_qrdqn-15-06-2020_17-31-43/1'"
   ]
  },
  {
   "cell_type": "markdown",
   "metadata": {},
   "source": [
    "## ESIF"
   ]
  },
  {
   "cell_type": "code",
   "execution_count": null,
   "metadata": {},
   "outputs": [],
   "source": [
    "sim_esif_file=os.path.join(sim_data_path,'DTTSim_esif.csv')\n",
    "print(sim_esif_file)\n",
    "edf=pd.read_csv(sim_esif_file)\n",
    "# scale the ips\n",
    "edf['ips_mean']=edf['ips_mean']/1e8\n",
    "print(edf.shape)\n",
    "edf.columns"
   ]
  },
  {
   "cell_type": "code",
   "execution_count": null,
   "metadata": {},
   "outputs": [],
   "source": [
    "edf['Episode_Scores'].values"
   ]
  },
  {
   "cell_type": "code",
   "execution_count": null,
   "metadata": {},
   "outputs": [],
   "source": [
    "cols_to_draw=['tj', 'power','tskin','pl1','pl2','tmem','ewma']\n",
    "edf['timestamp']=edf.index\n",
    "fig=px.line(edf.melt(id_vars=['timestamp'], value_vars=cols_to_draw),x='timestamp',y='value',color='variable')\n",
    "# fig.update_layout(hovermode=\"x\")\n",
    "fig.show()"
   ]
  },
  {
   "cell_type": "code",
   "execution_count": null,
   "metadata": {},
   "outputs": [],
   "source": [
    "edf.index"
   ]
  },
  {
   "cell_type": "markdown",
   "metadata": {},
   "source": [
    "### sim_esif.csv\n",
    "this file is generate by the `main` of `custom_envs.py` and should identical to `DTTSim_esif.csv`"
   ]
  },
  {
   "cell_type": "code",
   "execution_count": null,
   "metadata": {},
   "outputs": [],
   "source": [
    "sim_esif_file=os.path.join(sim_data_path,'sim_esif.csv')\n",
    "print(sim_esif_file)\n",
    "sedf=pd.read_csv(sim_esif_file)\n",
    "print(sedf.shape)\n",
    "sedf.columns"
   ]
  },
  {
   "cell_type": "code",
   "execution_count": null,
   "metadata": {},
   "outputs": [],
   "source": [
    "cols_to_draw=['tj', 'power','tskin','pl1','pl2','tmem','ewma']\n",
    "fig=px.line(sedf.melt(id_vars=['timestamp'], value_vars=cols_to_draw),x='timestamp',y='value',color='variable')\n",
    "# fig.update_layout(hovermode=\"x\")\n",
    "fig.show()"
   ]
  },
  {
   "cell_type": "markdown",
   "metadata": {},
   "source": [
    "## DTTStateRewardWrapper\n",
    "explore the csv that is generated by the wrapper. its the features.\n"
   ]
  },
  {
   "cell_type": "code",
   "execution_count": null,
   "metadata": {},
   "outputs": [],
   "source": [
    "sim_feat_file=os.path.join(sim_data_path,'sim_features.csv')\n",
    "print(sim_feat_file)\n",
    "fdf=pd.read_csv(sim_feat_file)\n",
    "print(fdf.shape)\n",
    "fdf.columns"
   ]
  },
  {
   "cell_type": "code",
   "execution_count": null,
   "metadata": {},
   "outputs": [],
   "source": [
    "fdf['timestamp']=fdf.index\n",
    "fdf"
   ]
  },
  {
   "cell_type": "code",
   "execution_count": null,
   "metadata": {},
   "outputs": [],
   "source": [
    "cols_to_draw=['tj', 'power_to_maxpl1_mean','tskin','pl1','pl2','tmem','torbu']\n",
    "fig=px.line(fdf.melt(id_vars=['timestamp'], value_vars=cols_to_draw),x='timestamp',y='value',color='variable')\n",
    "# fig.update_layout(hovermode=\"x\")\n",
    "fig.show()"
   ]
  },
  {
   "cell_type": "markdown",
   "metadata": {},
   "source": [
    "## Analyze score vs reward\n",
    "In this subsection we analyze the relation between score and various reward functions - based on running DTTSim"
   ]
  },
  {
   "cell_type": "code",
   "execution_count": null,
   "metadata": {},
   "outputs": [],
   "source": [
    "rew_score_file = os.path.join(sim_data_path,'rew_scores_0_all.csv')\n",
    "rsdf = pd.read_csv(rew_score_file)\n",
    "rsdf.head()"
   ]
  },
  {
   "cell_type": "code",
   "execution_count": null,
   "metadata": {},
   "outputs": [],
   "source": [
    "fig=px.scatter(rsdf.melt(id_vars=['benchmark','policy','reward'], value_vars='avg score'),x='reward',y='value',color='policy',symbol='benchmark')\n",
    "fig.show()"
   ]
  },
  {
   "cell_type": "code",
   "execution_count": null,
   "metadata": {},
   "outputs": [],
   "source": [
    "rsdf['policy'].value_counts()"
   ]
  }
 ],
 "metadata": {
  "kernelspec": {
   "display_name": "Python 3",
   "language": "python",
   "name": "python3"
  },
  "language_info": {
   "codemirror_mode": {
    "name": "ipython",
    "version": 3
   },
   "file_extension": ".py",
   "mimetype": "text/x-python",
   "name": "python",
   "nbconvert_exporter": "python",
   "pygments_lexer": "ipython3",
   "version": "3.7.6"
  },
  "toc": {
   "base_numbering": 1,
   "nav_menu": {},
   "number_sections": true,
   "sideBar": true,
   "skip_h1_title": false,
   "title_cell": "Table of Contents",
   "title_sidebar": "Contents",
   "toc_cell": false,
   "toc_position": {},
   "toc_section_display": true,
   "toc_window_display": false
  }
 },
 "nbformat": 4,
 "nbformat_minor": 4
}
