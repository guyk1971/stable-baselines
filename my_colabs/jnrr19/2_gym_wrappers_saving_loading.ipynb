{
 "cells": [
  {
   "cell_type": "markdown",
   "metadata": {
    "colab_type": "text",
    "id": "view-in-github"
   },
   "source": [
    "<a href=\"https://colab.research.google.com/github/araffin/rl-tutorial-jnrr19/blob/master/2_gym_wrappers_saving_loading.ipynb\" target=\"_parent\"><img src=\"https://colab.research.google.com/assets/colab-badge.svg\" alt=\"Open In Colab\"/></a>"
   ]
  },
  {
   "cell_type": "markdown",
   "metadata": {
    "colab_type": "text",
    "id": "3ezJ3Y7XRUnj"
   },
   "source": [
    "# Stable Baselines Tutorial - Gym wrappers, saving and loading models\n",
    "\n",
    "Github repo: https://github.com/araffin/rl-tutorial-jnrr19\n",
    "\n",
    "Stable-Baselines: https://github.com/hill-a/stable-baselines\n",
    "\n",
    "Documentation: https://stable-baselines.readthedocs.io/en/master/\n",
    "\n",
    "RL Baselines zoo: https://github.com/araffin/rl-baselines-zoo\n",
    "\n",
    "\n",
    "## Introduction\n",
    "\n",
    "In this notebook, you will learn how to use *Gym Wrappers* which allow to do monitoring, normalization, limit the number of steps, feature augmentation, ...\n",
    "\n",
    "\n",
    "You will also see the *loading* and *saving* functions, and how to read the outputed files for possible exporting.\n",
    "\n",
    "## Install Dependencies and Stable Baselines Using Pip"
   ]
  },
  {
   "cell_type": "code",
   "execution_count": 0,
   "metadata": {
    "colab": {},
    "colab_type": "code",
    "id": "YFdlFByORUnl"
   },
   "outputs": [],
   "source": [
    "# !apt install swig\n",
    "# !pip install stable-baselines[mpi]==2.8.0\n",
    "# # Stable Baselines only supports tensorflow 1.x for now\n",
    "# %tensorflow_version 1.x"
   ]
  },
  {
   "cell_type": "code",
   "execution_count": 1,
   "metadata": {},
   "outputs": [
    {
     "name": "stdout",
     "output_type": "stream",
     "text": [
      "inserting the following to path /home/guy/workspace/study/remote/stable-baselines\n",
      "['/home/guy/workspace/study/remote/stable-baselines/my_colabs/jnrr19', '/home/guy/workspace/study/remote/stable-baselines/my_colabs/jnrr19', '/home/guy/workspace/study/remote/agents', '/home/guy/workspace/study/remote/stable-baselines', '/home/guy/anaconda3/envs/rl15/lib/python37.zip', '/home/guy/anaconda3/envs/rl15/lib/python3.7', '/home/guy/anaconda3/envs/rl15/lib/python3.7/lib-dynload', '', '/home/guy/anaconda3/envs/rl15/lib/python3.7/site-packages', '/home/guy/anaconda3/envs/rl15/lib/python3.7/site-packages/IPython/extensions', '/home/guy/.ipython']\n"
     ]
    }
   ],
   "source": [
    "%load_ext autoreload\n",
    "%autoreload 2\n",
    "try:\n",
    "    %%tensorflow_version 1.x\n",
    "except:\n",
    "    pass\n",
    "\n",
    "import os\n",
    "import sys\n",
    "lib_path = os.path.abspath('../..')\n",
    "print('inserting the following to path',lib_path)\n",
    "if lib_path not in sys.path:\n",
    "    sys.path.insert(0,lib_path)\n",
    "print(sys.path)"
   ]
  },
  {
   "cell_type": "code",
   "execution_count": 2,
   "metadata": {},
   "outputs": [],
   "source": [
    "# Filter tensorflow version warnings\n",
    "# https://stackoverflow.com/questions/40426502/is-there-a-way-to-suppress-the-messages-tensorflow-prints/40426709\n",
    "os.environ['TF_CPP_MIN_LOG_LEVEL'] = '3'  # or any {'0', '1', '2'}\n",
    "import warnings\n",
    "# https://stackoverflow.com/questions/15777951/how-to-suppress-pandas-future-warning\n",
    "warnings.simplefilter(action='ignore', category=FutureWarning)\n",
    "warnings.simplefilter(action='ignore', category=Warning)\n",
    "import tensorflow as tf\n",
    "tf.get_logger().setLevel('INFO')\n",
    "tf.autograph.set_verbosity(0)\n",
    "import logging\n",
    "tf.get_logger().setLevel(logging.ERROR)"
   ]
  },
  {
   "cell_type": "code",
   "execution_count": 12,
   "metadata": {},
   "outputs": [
    {
     "name": "stdout",
     "output_type": "stream",
     "text": [
      "['/home/guy/anaconda3/envs/rl15/lib/python37.zip', '/home/guy/anaconda3/envs/rl15/lib/python3.7', '/home/guy/anaconda3/envs/rl15/lib/python3.7/lib-dynload', '', '/home/guy/anaconda3/envs/rl15/lib/python3.7/site-packages', '/home/guy/anaconda3/envs/rl15/lib/python3.7/site-packages/IPython/extensions', '/home/guy/.ipython']\n"
     ]
    }
   ],
   "source": [
    "# sys.path.pop(0)\n",
    "# print(sys.path)"
   ]
  },
  {
   "cell_type": "code",
   "execution_count": 3,
   "metadata": {
    "colab": {},
    "colab_type": "code",
    "id": "grXe85G9RUnp"
   },
   "outputs": [],
   "source": [
    "import gym\n",
    "from stable_baselines import A2C, SAC, PPO2, TD3"
   ]
  },
  {
   "cell_type": "code",
   "execution_count": 4,
   "metadata": {},
   "outputs": [
    {
     "name": "stdout",
     "output_type": "stream",
     "text": [
      "/home/guy/workspace/study/remote/stable-baselines/my_colabs/jnrr19\r\n"
     ]
    }
   ],
   "source": [
    "!pwd"
   ]
  },
  {
   "cell_type": "markdown",
   "metadata": {
    "colab_type": "text",
    "id": "hMPAn1SRd32f"
   },
   "source": [
    "# Saving and loading\n",
    "\n",
    "Saving and loading stable-baselines models is straightforward: you can directly call `.save()` and `.load()` on the models."
   ]
  },
  {
   "cell_type": "code",
   "execution_count": 5,
   "metadata": {
    "colab": {},
    "colab_type": "code",
    "id": "vBNFnN4Gd32g"
   },
   "outputs": [
    {
     "name": "stdout",
     "output_type": "stream",
     "text": [
      "pre saved (array([-0.05531978], dtype=float32), None)\n",
      "loaded (array([-0.05531978], dtype=float32), None)\n"
     ]
    }
   ],
   "source": [
    "import os\n",
    "\n",
    "# Create save dir\n",
    "save_dir = \"/tmp/gym/\"\n",
    "os.makedirs(save_dir, exist_ok=True)\n",
    "\n",
    "model = PPO2('MlpPolicy', 'Pendulum-v0', verbose=0).learn(8000)\n",
    "# The model will be saved under PPO2_tutorial.zip\n",
    "model.save(save_dir + \"/PPO2_tutorial\")\n",
    "\n",
    "# sample an observation from the environment\n",
    "obs = model.env.observation_space.sample()\n",
    "\n",
    "# Check prediction before saving\n",
    "print(\"pre saved\", model.predict(obs, deterministic=True))\n",
    "\n",
    "del model # delete trained model to demonstrate loading\n",
    "\n",
    "loaded_model = PPO2.load(save_dir + \"/PPO2_tutorial\")\n",
    "# Check that the prediction is the same after loading (for the same observation)\n",
    "print(\"loaded\", loaded_model.predict(obs, deterministic=True))"
   ]
  },
  {
   "cell_type": "markdown",
   "metadata": {
    "colab_type": "text",
    "id": "gXWPrVqId32o"
   },
   "source": [
    "Saving in stable-baselines is quite powerful, as you save the training hyperparameters, with the current weights. This means in practice, you can simply load a custom model, without redefining the parameters, and continue learning.\n",
    "\n",
    "The loading function can also update the model's class variables when loading."
   ]
  },
  {
   "cell_type": "code",
   "execution_count": 17,
   "metadata": {
    "colab": {},
    "colab_type": "code",
    "id": "LCtxrAbXd32q"
   },
   "outputs": [
    {
     "name": "stdout",
     "output_type": "stream",
     "text": [
      "WARNING:tensorflow:From /home/guy/workspace/study/remote/stable-baselines/stable_baselines/common/tf_util.py:313: The name tf.get_collection is deprecated. Please use tf.compat.v1.get_collection instead.\n",
      "\n",
      "WARNING:tensorflow:From /home/guy/workspace/study/remote/stable-baselines/stable_baselines/common/tf_util.py:313: The name tf.GraphKeys is deprecated. Please use tf.compat.v1.GraphKeys instead.\n",
      "\n",
      "WARNING:tensorflow:From /home/guy/workspace/study/remote/stable-baselines/stable_baselines/a2c/a2c.py:164: The name tf.train.RMSPropOptimizer is deprecated. Please use tf.compat.v1.train.RMSPropOptimizer instead.\n",
      "\n",
      "WARNING:tensorflow:From /home/guy/anaconda3/envs/rl15/lib/python3.7/site-packages/tensorflow_core/python/training/rmsprop.py:119: calling Ones.__init__ (from tensorflow.python.ops.init_ops) with dtype is deprecated and will be removed in a future version.\n",
      "Instructions for updating:\n",
      "Call initializer instance with the dtype argument instead of passing it to the constructor\n",
      "Loading a model without an environment, this model cannot be trained until it has a valid environment.\n",
      "loaded: gamma = 0.9 n_steps = 20\n",
      "---------------------------------\n",
      "| explained_variance | -0.00602 |\n",
      "| fps                | 88       |\n",
      "| nupdates           | 1        |\n",
      "| policy_entropy     | 1.42     |\n",
      "| total_timesteps    | 20       |\n",
      "| value_loss         | 1.85e+03 |\n",
      "---------------------------------\n",
      "---------------------------------\n",
      "| explained_variance | -0.0451  |\n",
      "| fps                | 524      |\n",
      "| nupdates           | 100      |\n",
      "| policy_entropy     | 1.42     |\n",
      "| total_timesteps    | 2000     |\n",
      "| value_loss         | 759      |\n",
      "---------------------------------\n",
      "---------------------------------\n",
      "| explained_variance | 0.00915  |\n",
      "| fps                | 534      |\n",
      "| nupdates           | 200      |\n",
      "| policy_entropy     | 1.42     |\n",
      "| total_timesteps    | 4000     |\n",
      "| value_loss         | 3.5e+03  |\n",
      "---------------------------------\n",
      "---------------------------------\n",
      "| explained_variance | 0.0543   |\n",
      "| fps                | 538      |\n",
      "| nupdates           | 300      |\n",
      "| policy_entropy     | 1.42     |\n",
      "| total_timesteps    | 6000     |\n",
      "| value_loss         | 1.87e+03 |\n",
      "---------------------------------\n",
      "---------------------------------\n",
      "| explained_variance | 0.0129   |\n",
      "| fps                | 541      |\n",
      "| nupdates           | 400      |\n",
      "| policy_entropy     | 1.42     |\n",
      "| total_timesteps    | 8000     |\n",
      "| value_loss         | 1.9e+03  |\n",
      "---------------------------------\n"
     ]
    },
    {
     "data": {
      "text/plain": [
       "<stable_baselines.a2c.a2c.A2C at 0x7fba60030e10>"
      ]
     },
     "execution_count": 17,
     "metadata": {},
     "output_type": "execute_result"
    }
   ],
   "source": [
    "import os\n",
    "from stable_baselines.common.vec_env import DummyVecEnv\n",
    "\n",
    "# Create save dir\n",
    "save_dir = \"/tmp/gym/\"\n",
    "os.makedirs(save_dir, exist_ok=True)\n",
    "\n",
    "model = A2C('MlpPolicy', 'Pendulum-v0', verbose=0, gamma=0.9, n_steps=20).learn(8000)\n",
    "# The model will be saved under A2C_tutorial.zip\n",
    "model.save(save_dir + \"/A2C_tutorial\")\n",
    "\n",
    "del model # delete trained model to demonstrate loading\n",
    "\n",
    "# load the model, and when loading set verbose to 1\n",
    "loaded_model = A2C.load(save_dir + \"/A2C_tutorial\", verbose=1)\n",
    "\n",
    "# show the save hyperparameters\n",
    "print(\"loaded:\", \"gamma =\", loaded_model.gamma, \"n_steps =\", loaded_model.n_steps)\n",
    "\n",
    "# as the environment is not serializable, we need to set a new instance of the environment\n",
    "loaded_model.set_env(DummyVecEnv([lambda: gym.make('Pendulum-v0')]))\n",
    "# and continue training\n",
    "loaded_model.learn(8000)"
   ]
  },
  {
   "cell_type": "markdown",
   "metadata": {
    "colab_type": "text",
    "id": "hKwupU-Jgxjm"
   },
   "source": [
    "# Gym and VecEnv wrappers"
   ]
  },
  {
   "cell_type": "markdown",
   "metadata": {
    "colab_type": "text",
    "id": "ds4AAfmISQIA"
   },
   "source": [
    "## Anatomy of a gym wrapper"
   ]
  },
  {
   "cell_type": "markdown",
   "metadata": {
    "colab_type": "text",
    "id": "gnTS9e9hTzZZ"
   },
   "source": [
    "A gym wrapper follows the [gym](https://stable-baselines.readthedocs.io/en/master/guide/custom_env.html) interface: it has a `reset()` and `step()` method.\n",
    "\n",
    "Because a wrapper is *around* an environment, we can access it with `self.env`, this allow to easily interact with it without modifying the original env.\n",
    "There are many wrappers that have been predefined, for a complete list refer to [gym documentation](https://github.com/openai/gym/tree/master/gym/wrappers)"
   ]
  },
  {
   "cell_type": "code",
   "execution_count": 18,
   "metadata": {
    "colab": {},
    "colab_type": "code",
    "id": "hYo0C0TQSL3c"
   },
   "outputs": [],
   "source": [
    "class CustomWrapper(gym.Wrapper):\n",
    "  \"\"\"\n",
    "  :param env: (gym.Env) Gym environment that will be wrapped\n",
    "  \"\"\"\n",
    "  def __init__(self, env):\n",
    "    # Call the parent constructor, so we can access self.env later\n",
    "    super(CustomWrapper, self).__init__(env)\n",
    "  \n",
    "  def reset(self):\n",
    "    \"\"\"\n",
    "    Reset the environment \n",
    "    \"\"\"\n",
    "    obs = self.env.reset()\n",
    "    return obs\n",
    "\n",
    "  def step(self, action):\n",
    "    \"\"\"\n",
    "    :param action: ([float] or int) Action taken by the agent\n",
    "    :return: (np.ndarray, float, bool, dict) observation, reward, is the episode over?, additional informations\n",
    "    \"\"\"\n",
    "    obs, reward, done, info = self.env.step(action)\n",
    "    return obs, reward, done, info\n"
   ]
  },
  {
   "cell_type": "markdown",
   "metadata": {
    "colab_type": "text",
    "id": "4zeGuyICUN26"
   },
   "source": [
    "## First example: limit the episode length\n",
    "\n",
    "One practical use case of a wrapper is when you want to limit the number of steps by episode, for that you will need to overwrite the `done` signal when the limit is reached. It is also a good practice to pass that information in the `info` dictionnary."
   ]
  },
  {
   "cell_type": "code",
   "execution_count": 19,
   "metadata": {
    "colab": {},
    "colab_type": "code",
    "id": "Eb2U4_K6SNUx"
   },
   "outputs": [],
   "source": [
    "class TimeLimitWrapper(gym.Wrapper):\n",
    "  \"\"\"\n",
    "  :param env: (gym.Env) Gym environment that will be wrapped\n",
    "  :param max_steps: (int) Max number of steps per episode\n",
    "  \"\"\"\n",
    "  def __init__(self, env, max_steps=100):\n",
    "    # Call the parent constructor, so we can access self.env later\n",
    "    super(TimeLimitWrapper, self).__init__(env)\n",
    "    self.max_steps = max_steps\n",
    "    # Counter of steps per episode\n",
    "    self.current_step = 0\n",
    "  \n",
    "  def reset(self):\n",
    "    \"\"\"\n",
    "    Reset the environment \n",
    "    \"\"\"\n",
    "    # Reset the counter\n",
    "    self.current_step = 0\n",
    "    return self.env.reset()\n",
    "\n",
    "  def step(self, action):\n",
    "    \"\"\"\n",
    "    :param action: ([float] or int) Action taken by the agent\n",
    "    :return: (np.ndarray, float, bool, dict) observation, reward, is the episode over?, additional informations\n",
    "    \"\"\"\n",
    "    self.current_step += 1\n",
    "    obs, reward, done, info = self.env.step(action)\n",
    "    # Overwrite the done signal when \n",
    "    if self.current_step >= self.max_steps:\n",
    "        done = True\n",
    "        # Update the info dict to signal that the limit was exceeded\n",
    "        info['time_limit_reached'] = True\n",
    "    return obs, reward, done, info\n"
   ]
  },
  {
   "cell_type": "markdown",
   "metadata": {
    "colab_type": "text",
    "id": "oZufaUJwVM9w"
   },
   "source": [
    "#### Test the wrapper"
   ]
  },
  {
   "cell_type": "code",
   "execution_count": 20,
   "metadata": {
    "colab": {},
    "colab_type": "code",
    "id": "szZ43D5PVB07"
   },
   "outputs": [],
   "source": [
    "from gym.envs.classic_control.pendulum import PendulumEnv\n",
    "\n",
    "# Here we create the environment directly because gym.make() already wrap the environement in a TimeLimit wrapper otherwise\n",
    "env = PendulumEnv()\n",
    "# Wrap the environment\n",
    "env = TimeLimitWrapper(env, max_steps=100)"
   ]
  },
  {
   "cell_type": "code",
   "execution_count": 21,
   "metadata": {
    "colab": {},
    "colab_type": "code",
    "id": "cencka9iVg9V"
   },
   "outputs": [
    {
     "name": "stdout",
     "output_type": "stream",
     "text": [
      "100 {'time_limit_reached': True}\n"
     ]
    }
   ],
   "source": [
    "obs = env.reset()\n",
    "done = False\n",
    "n_steps = 0\n",
    "while not done:\n",
    "    # Take random actions\n",
    "    random_action = env.action_space.sample()\n",
    "    obs, reward, done, info = env.step(random_action)\n",
    "    n_steps += 1\n",
    "\n",
    "print(n_steps, info)"
   ]
  },
  {
   "cell_type": "markdown",
   "metadata": {
    "colab_type": "text",
    "id": "jkMYA63sV9aA"
   },
   "source": [
    "In practice, `gym` already have a wrapper for that named `TimeLimit` (`gym.wrappers.TimeLimit`) that is used by most environments."
   ]
  },
  {
   "cell_type": "markdown",
   "metadata": {
    "colab_type": "text",
    "id": "VIIJbSyQW9R-"
   },
   "source": [
    "## Second example: normalize actions\n",
    "\n",
    "It is usually a good idea to normalize observations and actions before giving it to the agent, this prevent [hard to debug issue](https://github.com/hill-a/stable-baselines/issues/473).\n",
    "\n",
    "In this example, we are going to normalize the action space of *Pendulum-v0* so it lies in [-1, 1] instead of [-2, 2].\n",
    "\n",
    "Note: here we are dealing with continuous actions, hence the `gym.Box` space"
   ]
  },
  {
   "cell_type": "code",
   "execution_count": 22,
   "metadata": {
    "colab": {},
    "colab_type": "code",
    "id": "F5E6kZfzW8vy"
   },
   "outputs": [],
   "source": [
    "import numpy as np\n",
    "\n",
    "class NormalizeActionWrapper(gym.Wrapper):\n",
    "    \"\"\"\n",
    "    :param env: (gym.Env) Gym environment that will be wrapped\n",
    "    \"\"\"\n",
    "    def __init__(self, env):\n",
    "        # Retrieve the action space\n",
    "        action_space = env.action_space\n",
    "        assert isinstance(action_space, gym.spaces.Box), \"This wrapper only works with continuous action space (spaces.Box)\"\n",
    "        # Retrieve the max/min values\n",
    "        self.low, self.high = action_space.low, action_space.high\n",
    "\n",
    "        # We modify the action space, so all actions will lie in [-1, 1]\n",
    "        env.action_space = gym.spaces.Box(low=-1, high=1, shape=action_space.shape, dtype=np.float32)\n",
    "\n",
    "        # Call the parent constructor, so we can access self.env later\n",
    "        super(NormalizeActionWrapper, self).__init__(env)\n",
    "  \n",
    "    def rescale_action(self, scaled_action):\n",
    "        \"\"\"\n",
    "        Rescale the action from [-1, 1] to [low, high]\n",
    "        (no need for symmetric action space)\n",
    "        :param scaled_action: (np.ndarray)\n",
    "        :return: (np.ndarray)\n",
    "        \"\"\"\n",
    "        return self.low + (0.5 * (scaled_action + 1.0) * (self.high -  self.low))\n",
    "\n",
    "    def reset(self):\n",
    "        \"\"\"\n",
    "        Reset the environment \n",
    "        \"\"\"\n",
    "        # Reset the counter\n",
    "        return self.env.reset()\n",
    "\n",
    "    def step(self, action):\n",
    "        \"\"\"\n",
    "        :param action: ([float] or int) Action taken by the agent\n",
    "        :return: (np.ndarray, float, bool, dict) observation, reward, is the episode over?, additional informations\n",
    "        \"\"\"\n",
    "        # Rescale action from [-1, 1] to original [low, high] interval\n",
    "        rescaled_action = self.rescale_action(action)\n",
    "        obs, reward, done, info = self.env.step(rescaled_action)\n",
    "        return obs, reward, done, info"
   ]
  },
  {
   "cell_type": "markdown",
   "metadata": {
    "colab_type": "text",
    "id": "TmJ0eahNaR6K"
   },
   "source": [
    "#### Test before rescaling actions"
   ]
  },
  {
   "cell_type": "code",
   "execution_count": 23,
   "metadata": {
    "colab": {},
    "colab_type": "code",
    "id": "UEnjBwisaQIx"
   },
   "outputs": [
    {
     "name": "stdout",
     "output_type": "stream",
     "text": [
      "[-2.]\n",
      "[-1.7846217]\n",
      "[-0.95488584]\n",
      "[-1.3837284]\n",
      "[-1.0874054]\n",
      "[-0.9217721]\n",
      "[0.7168553]\n",
      "[-1.9694351]\n",
      "[1.7232076]\n",
      "[0.64138883]\n",
      "[-1.3491364]\n"
     ]
    }
   ],
   "source": [
    "original_env = gym.make(\"Pendulum-v0\")\n",
    "\n",
    "print(original_env.action_space.low)\n",
    "for _ in range(10):\n",
    "    print(original_env.action_space.sample())"
   ]
  },
  {
   "cell_type": "markdown",
   "metadata": {
    "colab_type": "text",
    "id": "jvcll2L3afVd"
   },
   "source": [
    "#### Test the NormalizeAction wrapper"
   ]
  },
  {
   "cell_type": "code",
   "execution_count": 24,
   "metadata": {
    "colab": {},
    "colab_type": "code",
    "id": "WsCM9AUGaeBN"
   },
   "outputs": [
    {
     "name": "stdout",
     "output_type": "stream",
     "text": [
      "[-1.]\n",
      "[-0.50132984]\n",
      "[0.7377853]\n",
      "[0.3500782]\n",
      "[-0.5791502]\n",
      "[0.41801283]\n",
      "[0.34071988]\n",
      "[-0.02350207]\n",
      "[-0.24232079]\n",
      "[-0.30819535]\n",
      "[0.33877748]\n"
     ]
    }
   ],
   "source": [
    "env = NormalizeActionWrapper(gym.make(\"Pendulum-v0\"))\n",
    "\n",
    "print(env.action_space.low)\n",
    "\n",
    "for _ in range(10):\n",
    "    print(env.action_space.sample())"
   ]
  },
  {
   "cell_type": "markdown",
   "metadata": {
    "colab_type": "text",
    "id": "V5h5kk2mbGNs"
   },
   "source": [
    "#### Test with a RL algorithm\n",
    "\n",
    "We are going to use the Monitor wrapper of stable baselines, wich allow to monitor training stats (mean episode reward, mean episode length)"
   ]
  },
  {
   "cell_type": "code",
   "execution_count": 34,
   "metadata": {
    "colab": {},
    "colab_type": "code",
    "id": "R9FNCN8ybOVU"
   },
   "outputs": [],
   "source": [
    "from stable_baselines.bench import Monitor\n",
    "from stable_baselines.common.vec_env import DummyVecEnv"
   ]
  },
  {
   "cell_type": "code",
   "execution_count": 35,
   "metadata": {
    "colab": {},
    "colab_type": "code",
    "id": "wutM3c1GbfGP"
   },
   "outputs": [],
   "source": [
    "env = Monitor(gym.make('Pendulum-v0'), filename=None, allow_early_resets=True)\n",
    "env = DummyVecEnv([lambda: env])"
   ]
  },
  {
   "cell_type": "code",
   "execution_count": 36,
   "metadata": {
    "colab": {},
    "colab_type": "code",
    "id": "8cxnE5bdaQ_3"
   },
   "outputs": [
    {
     "name": "stdout",
     "output_type": "stream",
     "text": [
      "---------------------------------\n",
      "| explained_variance | 0.172    |\n",
      "| fps                | 23       |\n",
      "| nupdates           | 1        |\n",
      "| policy_entropy     | 1.42     |\n",
      "| total_timesteps    | 5        |\n",
      "| value_loss         | 5.69     |\n",
      "---------------------------------\n",
      "----------------------------------\n",
      "| ep_len_mean        | 200       |\n",
      "| ep_reward_mean     | -1.03e+03 |\n",
      "| explained_variance | 0.00161   |\n",
      "| fps                | 356       |\n",
      "| nupdates           | 100       |\n",
      "| policy_entropy     | 1.42      |\n",
      "| total_timesteps    | 500       |\n",
      "| value_loss         | 1.03e+03  |\n",
      "----------------------------------\n",
      "----------------------------------\n",
      "| ep_len_mean        | 200       |\n",
      "| ep_reward_mean     | -1.15e+03 |\n",
      "| explained_variance | 0.0301    |\n",
      "| fps                | 381       |\n",
      "| nupdates           | 200       |\n",
      "| policy_entropy     | 1.42      |\n",
      "| total_timesteps    | 1000      |\n",
      "| value_loss         | 37.3      |\n",
      "----------------------------------\n"
     ]
    }
   ],
   "source": [
    "model = A2C(\"MlpPolicy\", env, verbose=1).learn(int(1000))"
   ]
  },
  {
   "cell_type": "markdown",
   "metadata": {
    "colab_type": "text",
    "id": "EJFSM-Drb3Wc"
   },
   "source": [
    "With the action wrapper"
   ]
  },
  {
   "cell_type": "code",
   "execution_count": 39,
   "metadata": {
    "colab": {},
    "colab_type": "code",
    "id": "GszFZthob2wM"
   },
   "outputs": [],
   "source": [
    "normalized_env = Monitor(gym.make('Pendulum-v0'), filename=None, allow_early_resets=True)\n",
    "# Note that we can use multiple wrappers\n",
    "normalized_env = NormalizeActionWrapper(normalized_env)\n",
    "normalized_env = DummyVecEnv([lambda: normalized_env])"
   ]
  },
  {
   "cell_type": "code",
   "execution_count": 40,
   "metadata": {
    "colab": {},
    "colab_type": "code",
    "id": "wrKJEO4NcIMd"
   },
   "outputs": [
    {
     "name": "stdout",
     "output_type": "stream",
     "text": [
      "----------------------------------\n",
      "| explained_variance | -0.000478 |\n",
      "| fps                | 23        |\n",
      "| nupdates           | 1         |\n",
      "| policy_entropy     | 1.42      |\n",
      "| total_timesteps    | 5         |\n",
      "| value_loss         | 794       |\n",
      "----------------------------------\n",
      "---------------------------------\n",
      "| explained_variance | -0.00054 |\n",
      "| fps                | 342      |\n",
      "| nupdates           | 100      |\n",
      "| policy_entropy     | 1.42     |\n",
      "| total_timesteps    | 500      |\n",
      "| value_loss         | 974      |\n",
      "---------------------------------\n",
      "---------------------------------\n",
      "| explained_variance | 0.324    |\n",
      "| fps                | 364      |\n",
      "| nupdates           | 200      |\n",
      "| policy_entropy     | 1.42     |\n",
      "| total_timesteps    | 1000     |\n",
      "| value_loss         | 0.405    |\n",
      "---------------------------------\n"
     ]
    }
   ],
   "source": [
    "model_2 = A2C(\"MlpPolicy\", normalized_env, verbose=1).learn(int(1000))"
   ]
  },
  {
   "cell_type": "markdown",
   "metadata": {
    "colab_type": "text",
    "id": "5BxqXd_6dpJx"
   },
   "source": [
    "## Additional wrappers: VecEnvWrappers\n",
    "\n",
    "In the same vein as gym wrappers, stable baselines provide wrappers for `VecEnv`. Among the different that exist (and you can create your own), you should know: \n",
    "\n",
    "- VecNormalize: it computes a running mean and standard deviation to normalize observation and returns\n",
    "- VecFrameStack: it stacks several consecutive observations (useful to integrate time in the observation, e.g. sucessive frame of an atari game)\n",
    "\n",
    "More info in the [documentation](https://stable-baselines.readthedocs.io/en/master/guide/vec_envs.html#wrappers)\n",
    "\n",
    "Note: when using `VecNormalize` wrapper, you must save the running mean and std along with the model, otherwise you will not get proper results when loading the agent again. If you use the [rl zoo](https://github.com/araffin/rl-baselines-zoo), this is done automatically"
   ]
  },
  {
   "cell_type": "code",
   "execution_count": 41,
   "metadata": {
    "colab": {},
    "colab_type": "code",
    "id": "zuIcbfv3g9dd"
   },
   "outputs": [],
   "source": [
    "from stable_baselines.common.vec_env import VecNormalize, VecFrameStack\n",
    "\n",
    "env = DummyVecEnv([lambda: gym.make(\"Pendulum-v0\")])\n",
    "normalized_vec_env = VecNormalize(env)"
   ]
  },
  {
   "cell_type": "code",
   "execution_count": 42,
   "metadata": {
    "colab": {},
    "colab_type": "code",
    "id": "-PAbu21pg90A"
   },
   "outputs": [
    {
     "name": "stdout",
     "output_type": "stream",
     "text": [
      "[[0.00706301 0.00065785 0.0036319 ]] [-1.6527573]\n",
      "[[-0.12649035  0.91515796  0.9982918 ]] [-1.1853163]\n",
      "[[-0.33028482  1.14652276  0.04495299]] [-1.4915196]\n",
      "[[-0.72848758  1.36970605  1.17097443]] [-0.86195666]\n",
      "[[-1.22933531  1.5279819   1.54329918]] [-1.0433859]\n",
      "[[-1.65023619  1.65245472  1.72164534]] [-1.1189717]\n",
      "[[-1.83378912  1.6824586   1.35315674]] [-1.1787472]\n",
      "[[-1.98045156  1.73175757  1.57274686]] [-0.9577793]\n",
      "[[-2.08982887  1.77412413  1.65305009]] [-0.96715295]\n",
      "[[-2.19479001  1.81993924  1.81373232]] [-0.94818145]\n"
     ]
    }
   ],
   "source": [
    "obs = normalized_vec_env.reset()\n",
    "for _ in range(10):\n",
    "    action = [normalized_vec_env.action_space.sample()]\n",
    "    obs, reward, _, _ = normalized_vec_env.step(action)\n",
    "    print(obs, reward)"
   ]
  },
  {
   "cell_type": "markdown",
   "metadata": {
    "colab_type": "text",
    "id": "UEpTys28Wz05"
   },
   "source": [
    "## Exercise: code you own monitor wrapper\n",
    "\n",
    "Now that you know how does a wrapper work and what you can do with it, it's time to experiment.\n",
    "\n",
    "The goal here is to create a wrapper that will monitor the training progress, storing both the episode reward (sum of reward for one episode) and episode length (number of steps in for the last episode).\n",
    "\n",
    "You will return those values using the `info` dict after each end of episode."
   ]
  },
  {
   "cell_type": "code",
   "execution_count": 83,
   "metadata": {},
   "outputs": [],
   "source": [
    "from IPython.core.debugger import set_trace"
   ]
  },
  {
   "cell_type": "code",
   "execution_count": 91,
   "metadata": {
    "colab": {},
    "colab_type": "code",
    "id": "8FWeDRd5W7hO"
   },
   "outputs": [],
   "source": [
    "class MyMonitorWrapper2(gym.Wrapper):\n",
    "  \"\"\"\n",
    "  :param env: (gym.Env) Gym environment that will be wrapped\n",
    "  \"\"\"\n",
    "  def __init__(self, env):\n",
    "    # Call the parent constructor, so we can access self.env later\n",
    "    super(MyMonitorWrapper2, self).__init__(env)\n",
    "    # === YOUR CODE HERE ===#\n",
    "    # Initialize the variables that will be used\n",
    "    # to store the episode length and episode reward\n",
    "    self.episode_length = 0\n",
    "    self.episode_reward = 0\n",
    "    # ====================== #\n",
    "  \n",
    "  def reset(self):\n",
    "    \"\"\"\n",
    "    Reset the environment \n",
    "    \"\"\"\n",
    "    obs = self.env.reset()\n",
    "    # === YOUR CODE HERE ===#\n",
    "    # Reset the variables\n",
    "    self.episode_length = 0\n",
    "    self.episode_reward = 0\n",
    "    # ====================== #\n",
    "    return obs\n",
    "\n",
    "  def step(self, action):\n",
    "    \"\"\"\n",
    "    :param action: ([float] or int) Action taken by the agent\n",
    "    :return: (np.ndarray, float, bool, dict) observation, reward, is the episode over?, additional informations\n",
    "    \"\"\"\n",
    "    obs, reward, done, info = self.env.step(action)\n",
    "    # === YOUR CODE HERE ===#\n",
    "    # Update the current episode reward and episode length\n",
    "    self.episode_length += 1\n",
    "    self.episode_reward += reward  # not discounted\n",
    "    \n",
    "    # ====================== #\n",
    "    if done:\n",
    "#     if self.episode_length == 10:  # in order not to wait till end of epidode\n",
    "        done = True\n",
    "        # === YOUR CODE HERE ===#\n",
    "        # Store the episode length and episode reward in the info dict\n",
    "        info=dict(episode_length=self.episode_length,episode_reward=self.episode_reward)      \n",
    "        # ====================== #\n",
    "    return obs, reward, done, info"
   ]
  },
  {
   "cell_type": "markdown",
   "metadata": {
    "colab_type": "text",
    "id": "d4fY4QwWXNFK"
   },
   "source": [
    "#### Test your wrapper"
   ]
  },
  {
   "cell_type": "code",
   "execution_count": 0,
   "metadata": {
    "colab": {},
    "colab_type": "code",
    "id": "bJbUG-A_liYt"
   },
   "outputs": [],
   "source": [
    "# To use LunarLander, you need to install box2d box2d-kengz (pip) and swig (apt-get)\n",
    "# !pip install box2d box2d-kengz"
   ]
  },
  {
   "cell_type": "code",
   "execution_count": 92,
   "metadata": {
    "colab": {},
    "colab_type": "code",
    "id": "oWZp1olSXMUg"
   },
   "outputs": [
    {
     "name": "stdout",
     "output_type": "stream",
     "text": [
      "-0.0742531929153721\n",
      "-0.07442181485452244\n",
      "-0.10337524224886574\n",
      "-0.11628103215793728\n",
      "-0.12386241198911684\n",
      "-0.189261436910616\n",
      "-0.21292935730237858\n",
      "-0.3710129133212439\n",
      "-0.5515746991270738\n",
      "-0.8367365282710797\n",
      "-1.1989826727917532\n",
      "-1.9201040744193203\n",
      "-2.9523682445190427\n",
      "-4.294189138657661\n",
      "-6.069477407393977\n",
      "-8.028698785420714\n",
      "-10.855416071929755\n",
      "-13.994265098675138\n",
      "-16.037248923435374\n",
      "-13.698882591538354\n",
      "-11.192893073376673\n",
      "-8.823678541830837\n",
      "-6.952574806040697\n",
      "-5.331930687946781\n",
      "-3.746514161750952\n",
      "-2.471102083534463\n",
      "-1.609255817262694\n",
      "-1.1980914364916964\n",
      "-0.7282464947884381\n",
      "-0.4328354535345751\n",
      "-0.23179745008971725\n",
      "-0.16214699334832336\n",
      "-0.1316671356490802\n",
      "-0.11052059645745196\n",
      "-0.08218398748166761\n",
      "-0.05477633305710495\n",
      "-0.06315247209540947\n",
      "-0.0789358974245228\n",
      "-0.08691793162216233\n",
      "-0.0463522524796387\n",
      "-0.062345195014431865\n",
      "-0.07568038131632612\n",
      "-0.13547507392400626\n",
      "-0.2117697983480599\n",
      "-0.2316774242614805\n",
      "-0.4076791567976239\n",
      "-0.5049823306730337\n",
      "-0.6232969962451196\n",
      "-0.9002161058073958\n",
      "-1.3746866861113687\n",
      "-2.2039763670139036\n",
      "-2.980170093326975\n",
      "-4.192693418886456\n",
      "-5.907085724211142\n",
      "-8.137898296117092\n",
      "-10.156930153269661\n",
      "-12.866545928539898\n",
      "-15.869813916515477\n",
      "-14.088241596879755\n",
      "-11.298713066035162\n",
      "-8.761717455045215\n",
      "-6.819718684368389\n",
      "-4.949925824271679\n",
      "-3.663111570211558\n",
      "-2.4500669923571428\n",
      "-1.6522666340416525\n",
      "-1.167625248123263\n",
      "-0.8039459777649103\n",
      "-0.6278229493298457\n",
      "-0.5650064897385688\n",
      "-0.6267983270964783\n",
      "-0.7133701448639088\n",
      "-0.9819031829907169\n",
      "-1.2872704970855329\n",
      "-1.6661845345879687\n",
      "-2.470535732495859\n",
      "-3.4774512254808463\n",
      "-4.670684338318892\n",
      "-5.979076964688445\n",
      "-7.94162922500635\n",
      "-10.347754667602292\n",
      "-13.273903973386886\n",
      "-14.58939311760552\n",
      "-12.517740730198781\n",
      "-10.606519370853814\n",
      "-8.205860390929562\n",
      "-6.205386838194183\n",
      "-4.621140801854037\n",
      "-3.354267456384458\n",
      "-2.3103556945349157\n",
      "-1.7388070041829893\n",
      "-1.1748500750197741\n",
      "-0.9514289893831311\n",
      "-0.7504915562375492\n",
      "-0.752923234866258\n",
      "-0.9311423403444264\n",
      "-1.194288699807508\n",
      "-1.7553826179975969\n",
      "-2.39130659969145\n",
      "-3.2004427463589176\n",
      "-4.631542288044467\n",
      "-6.18701642176215\n",
      "-8.26767297251065\n",
      "-10.748936652553821\n",
      "-12.951012142164261\n",
      "-14.635530090456962\n",
      "-12.8161550505334\n",
      "-10.389443732153314\n",
      "-8.13402467280376\n",
      "-6.233782129845706\n",
      "-4.553699211849608\n",
      "-3.3880832157409655\n",
      "-2.384138785397718\n",
      "-1.8281311410975303\n",
      "-1.258673153603372\n",
      "-0.8013080208665638\n",
      "-0.5747091004753834\n",
      "-0.48337815866095885\n",
      "-0.4110045941815496\n",
      "-0.36468102214519044\n",
      "-0.3890044083837403\n",
      "-0.4986905925036613\n",
      "-0.6488057999278745\n",
      "-1.0154882568901857\n",
      "-1.5076060672382436\n",
      "-1.959687763122005\n",
      "-2.9926554502391034\n",
      "-4.080093255089702\n",
      "-5.575424558660972\n",
      "-7.845679825916481\n",
      "-10.35501556987884\n",
      "-13.486947595575863\n",
      "-16.057321126328386\n",
      "-13.785140659540414\n",
      "-11.111640083474247\n",
      "-8.797067998527226\n",
      "-6.481480925567287\n",
      "-4.661737550041003\n",
      "-3.4440203741337756\n",
      "-2.3045112099759617\n",
      "-1.6051837750489042\n",
      "-1.0869385904048983\n",
      "-0.8066594419034\n",
      "-0.6195991861938845\n",
      "-0.43711301391714574\n",
      "-0.35081446473777245\n",
      "-0.3497944949277176\n",
      "-0.42770609394421527\n",
      "-0.6033478776163169\n",
      "-0.8993103417384357\n",
      "-1.1389874925258898\n",
      "-1.7002324787210925\n",
      "-2.6131948672496756\n",
      "-3.4335245677733552\n",
      "-4.805017673975449\n",
      "-6.254750873561536\n",
      "-8.426058715479295\n",
      "-10.46096660859169\n",
      "-13.388893612354144\n",
      "-14.520606318528877\n",
      "-12.090067745610282\n",
      "-10.02142742271449\n",
      "-7.944911806821559\n",
      "-5.979783668913481\n",
      "-4.560983912329695\n",
      "-3.425786969405264\n",
      "-2.4870905766782223\n",
      "-1.8021139532364845\n",
      "-1.4805973849711314\n",
      "-1.3383216753276526\n",
      "-1.3958647500990407\n",
      "-1.7155998780740764\n",
      "-2.109963360124902\n",
      "-2.6237659203835055\n",
      "-3.3911317559458642\n",
      "-4.455477894389862\n",
      "-5.547363960450489\n",
      "-7.317760449333271\n",
      "-9.314641963423194\n",
      "-11.354006387988983\n",
      "-13.710436784856217\n",
      "-12.467044818833147\n",
      "-10.423824143123486\n",
      "-8.455681356787114\n",
      "-6.427800980385536\n",
      "-5.011448299628285\n",
      "-3.9883718175659633\n",
      "-2.837234439505729\n",
      "-2.0927458131798753\n",
      "-1.7553576612878503\n",
      "-1.4920149618981076\n",
      "-1.4748083763432132\n",
      "-1.5499557560065342\n",
      "-1.8605815706067603\n",
      "-2.470285842391766\n",
      "-3.3783448297579683\n",
      "-4.806828552016247\n",
      "-6.689606440082464\n",
      "-8.642448899556333\n",
      "-10.788084122395095\n",
      "{'episode_length': 200, 'episode_reward': -892.2675008762234}\n"
     ]
    }
   ],
   "source": [
    "# env = gym.make(\"LunarLander-v2\")\n",
    "# env = gym.make(\"CartPole-v1\")\n",
    "env = gym.make(\"Pendulum-v0\")\n",
    "\n",
    "# === YOUR CODE HERE ===#\n",
    "# Wrap the environment\n",
    "wenv = MyMonitorWrapper2(env)\n",
    "# Reset the environment\n",
    "obs=wenv.reset()\n",
    "# Take random actions in the enviromnent and check\n",
    "# that it returns the correct values after the end of each episode\n",
    "done = False\n",
    "while not done:\n",
    "    action = wenv.action_space.sample()\n",
    "    _, reward, done, info = wenv.step(action)\n",
    "    print(reward)\n",
    "    \n",
    "print(info)\n",
    "# ====================== #"
   ]
  },
  {
   "cell_type": "markdown",
   "metadata": {
    "colab_type": "text",
    "id": "dJ2IqSM2eOt8"
   },
   "source": [
    " # Conclusion\n",
    " \n",
    " In this notebook, we have seen:\n",
    " - how to easily save and load a model\n",
    " - what is wrapper and what we can do with it\n",
    " - how to create your own wrapper"
   ]
  },
  {
   "cell_type": "markdown",
   "metadata": {
    "colab_type": "text",
    "id": "qhWB_bHpSkas"
   },
   "source": [
    "## Wrapper Bonus: changing the observation space: a wrapper for episode of fixed length"
   ]
  },
  {
   "cell_type": "code",
   "execution_count": 0,
   "metadata": {
    "colab": {},
    "colab_type": "code",
    "id": "bBlS9YxYSpJn"
   },
   "outputs": [],
   "source": [
    "from gym.wrappers import TimeLimit\n",
    "\n",
    "class TimeFeatureWrapper(gym.Wrapper):\n",
    "    \"\"\"\n",
    "    Add remaining time to observation space for fixed length episodes.\n",
    "    See https://arxiv.org/abs/1712.00378 and https://github.com/aravindr93/mjrl/issues/13.\n",
    "\n",
    "    :param env: (gym.Env)\n",
    "    :param max_steps: (int) Max number of steps of an episode\n",
    "        if it is not wrapped in a TimeLimit object.\n",
    "    :param test_mode: (bool) In test mode, the time feature is constant,\n",
    "        equal to zero. This allow to check that the agent did not overfit this feature,\n",
    "        learning a deterministic pre-defined sequence of actions.\n",
    "    \"\"\"\n",
    "    def __init__(self, env, max_steps=1000, test_mode=False):\n",
    "        assert isinstance(env.observation_space, gym.spaces.Box)\n",
    "        # Add a time feature to the observation\n",
    "        low, high = env.observation_space.low, env.observation_space.high\n",
    "        low, high= np.concatenate((low, [0])), np.concatenate((high, [1.]))\n",
    "        env.observation_space = gym.spaces.Box(low=low, high=high, dtype=np.float32)\n",
    "\n",
    "        super(TimeFeatureWrapper, self).__init__(env)\n",
    "\n",
    "        if isinstance(env, TimeLimit):\n",
    "            self._max_steps = env._max_episode_steps\n",
    "        else:\n",
    "            self._max_steps = max_steps\n",
    "        self._current_step = 0\n",
    "        self._test_mode = test_mode\n",
    "\n",
    "    def reset(self):\n",
    "        self._current_step = 0\n",
    "        return self._get_obs(self.env.reset())\n",
    "\n",
    "    def step(self, action):\n",
    "        self._current_step += 1\n",
    "        obs, reward, done, info = self.env.step(action)\n",
    "        return self._get_obs(obs), reward, done, info\n",
    "\n",
    "    def _get_obs(self, obs):\n",
    "        \"\"\"\n",
    "        Concatenate the time feature to the current observation.\n",
    "\n",
    "        :param obs: (np.ndarray)\n",
    "        :return: (np.ndarray)\n",
    "        \"\"\"\n",
    "        # Remaining time is more general\n",
    "        time_feature = 1 - (self._current_step / self._max_steps)\n",
    "        if self._test_mode:\n",
    "            time_feature = 1.0\n",
    "        # Optionnaly: concatenate [time_feature, time_feature ** 2]\n",
    "        return np.concatenate((obs, [time_feature]))"
   ]
  },
  {
   "cell_type": "code",
   "execution_count": 0,
   "metadata": {
    "colab": {},
    "colab_type": "code",
    "id": "z-vWgkZzd4F1"
   },
   "outputs": [],
   "source": []
  },
  {
   "cell_type": "markdown",
   "metadata": {
    "colab_type": "text",
    "id": "Ojn4nvNNRUoT"
   },
   "source": [
    "## Going further - Saving format \n",
    "\n",
    "The format for saving and loading models has been recently revamped as of Stable-Baselines (>2.7.0).\n",
    "\n",
    "It is a zip-archived JSON dump and NumPy zip archive of the arrays:\n",
    "```\n",
    "saved_model.zip/\n",
    "├── data              JSON file of class-parameters (dictionary)\n",
    "├── parameter_list    JSON file of model parameters and their ordering (list)\n",
    "├── parameters        Bytes from numpy.savez (a zip file of the numpy arrays). ...\n",
    "    ├── ...           Being a zip-archive itself, this object can also be opened ...\n",
    "        ├── ...       as a zip-archive and browsed.\n",
    "```"
   ]
  },
  {
   "cell_type": "markdown",
   "metadata": {
    "colab_type": "text",
    "id": "QWAcc8RFRUoU"
   },
   "source": [
    "## Save and find "
   ]
  },
  {
   "cell_type": "code",
   "execution_count": 93,
   "metadata": {
    "colab": {},
    "colab_type": "code",
    "id": "4tcQxzSCRUoV"
   },
   "outputs": [],
   "source": [
    "# Create save dir\n",
    "save_dir = \"/tmp/gym/\"\n",
    "os.makedirs(save_dir, exist_ok=True)\n",
    "\n",
    "model = PPO2('MlpPolicy', 'Pendulum-v0', verbose=0).learn(8000)\n",
    "model.save(save_dir + \"/PPO2_tutorial\")"
   ]
  },
  {
   "cell_type": "code",
   "execution_count": 94,
   "metadata": {
    "colab": {},
    "colab_type": "code",
    "id": "rGaMNz4HRUoX"
   },
   "outputs": [
    {
     "name": "stdout",
     "output_type": "stream",
     "text": [
      "/tmp/gym/PPO2_tutorial.zip\r\n"
     ]
    }
   ],
   "source": [
    "!ls /tmp/gym/PPO2_tutorial*"
   ]
  },
  {
   "cell_type": "code",
   "execution_count": 95,
   "metadata": {
    "colab": {},
    "colab_type": "code",
    "id": "gYY3nQyyRUoa"
   },
   "outputs": [
    {
     "name": "stdout",
     "output_type": "stream",
     "text": [
      "data\n",
      "parameters\n",
      "parameter_list\n"
     ]
    }
   ],
   "source": [
    "import zipfile\n",
    "\n",
    "archive = zipfile.ZipFile(\"/tmp/gym/PPO2_tutorial.zip\", 'r')\n",
    "for f in archive.filelist:\n",
    "    print(f.filename)"
   ]
  },
  {
   "cell_type": "markdown",
   "metadata": {
    "colab_type": "text",
    "id": "cPKkkTvjRUo2"
   },
   "source": [
    "## Exporting saved models\n",
    "\n",
    "And finally some futher reading for those who want to export to tensorflowJS or Java.\n",
    "\n",
    "https://stable-baselines.readthedocs.io/en/master/guide/export.html"
   ]
  }
 ],
 "metadata": {
  "colab": {
   "collapsed_sections": [],
   "include_colab_link": true,
   "name": "2_gym_wrappers_saving_loading.ipynb",
   "provenance": []
  },
  "kernelspec": {
   "display_name": "Python 3",
   "language": "python",
   "name": "python3"
  },
  "language_info": {
   "codemirror_mode": {
    "name": "ipython",
    "version": 3
   },
   "file_extension": ".py",
   "mimetype": "text/x-python",
   "name": "python",
   "nbconvert_exporter": "python",
   "pygments_lexer": "ipython3",
   "version": "3.7.6"
  },
  "toc": {
   "base_numbering": 1,
   "nav_menu": {},
   "number_sections": true,
   "sideBar": true,
   "skip_h1_title": false,
   "title_cell": "Table of Contents",
   "title_sidebar": "Contents",
   "toc_cell": false,
   "toc_position": {},
   "toc_section_display": true,
   "toc_window_display": false
  }
 },
 "nbformat": 4,
 "nbformat_minor": 1
}
