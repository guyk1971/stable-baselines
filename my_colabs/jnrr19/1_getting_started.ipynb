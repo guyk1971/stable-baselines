{
 "cells": [
  {
   "cell_type": "markdown",
   "metadata": {
    "colab_type": "text",
    "id": "view-in-github"
   },
   "source": [
    "<a href=\"https://colab.research.google.com/github/araffin/rl-tutorial-jnrr19/blob/master/1_getting_started.ipynb\" target=\"_parent\"><img src=\"https://colab.research.google.com/assets/colab-badge.svg\" alt=\"Open In Colab\"/></a>"
   ]
  },
  {
   "cell_type": "markdown",
   "metadata": {
    "colab_type": "text",
    "id": "hyyN-2qyK_T2"
   },
   "source": [
    "# Stable Baselines Tutorial - Getting Started\n",
    "\n",
    "Github repo: https://github.com/araffin/rl-tutorial-jnrr19\n",
    "\n",
    "Stable-Baselines: https://github.com/hill-a/stable-baselines\n",
    "\n",
    "Documentation: https://stable-baselines.readthedocs.io/en/master/\n",
    "\n",
    "RL Baselines zoo: https://github.com/araffin/rl-baselines-zoo\n",
    "\n",
    "Medium article: [https://medium.com/@araffin/stable-baselines-a-fork-of-openai-baselines-df87c4b2fc82](https://medium.com/@araffin/stable-baselines-a-fork-of-openai-baselines-df87c4b2fc82)\n",
    "\n",
    "[RL Baselines Zoo](https://github.com/araffin/rl-baselines-zoo) is a collection of pre-trained Reinforcement Learning agents using Stable-Baselines.\n",
    "\n",
    "It also provides basic scripts for training, evaluating agents, tuning hyperparameters and recording videos.\n",
    "\n",
    "\n",
    "## Introduction\n",
    "\n",
    "In this notebook, you will learn the basics for using stable baselines library: how to create a RL model, train it and evaluate it. Because all algorithms share the same interface, we will see how simple it is to switch from one algorithm to another.\n",
    "\n",
    "\n",
    "## Install Dependencies and Stable Baselines Using Pip\n",
    "\n",
    "List of full dependencies can be found in the [README](https://github.com/hill-a/stable-baselines).\n",
    "\n",
    "```\n",
    "sudo apt-get update && sudo apt-get install cmake libopenmpi-dev zlib1g-dev\n",
    "```\n",
    "\n",
    "\n",
    "```\n",
    "pip install stable-baselines[mpi]\n",
    "```"
   ]
  },
  {
   "cell_type": "code",
   "execution_count": 0,
   "metadata": {
    "colab": {},
    "colab_type": "code",
    "id": "gWskDE2c9WoN"
   },
   "outputs": [],
   "source": [
    "# !apt-get install ffmpeg freeglut3-dev xvfb  # For visualization\n",
    "# !pip install stable-baselines[mpi]==2.8.0\n",
    "# # Stable Baselines only supports tensorflow 1.x for now\n",
    "# %tensorflow_version 1.x"
   ]
  },
  {
   "cell_type": "code",
   "execution_count": 1,
   "metadata": {},
   "outputs": [
    {
     "name": "stdout",
     "output_type": "stream",
     "text": [
      "inserting the following to path /home/guy/workspace/study/remote/stable-baselines/my_colabs\n",
      "['/home/guy/workspace/study/remote/stable-baselines/my_colabs', '/home/guy/workspace/study/remote/stable-baselines/my_colabs/jnrr19', '/home/guy/workspace/study/remote/stable-baselines/my_colabs/jnrr19', '/home/guy/workspace/study/remote/agents', '/home/guy/workspace/study/remote/stable-baselines', '/home/guy/anaconda3/envs/rl15/lib/python37.zip', '/home/guy/anaconda3/envs/rl15/lib/python3.7', '/home/guy/anaconda3/envs/rl15/lib/python3.7/lib-dynload', '', '/home/guy/anaconda3/envs/rl15/lib/python3.7/site-packages', '/home/guy/anaconda3/envs/rl15/lib/python3.7/site-packages/IPython/extensions', '/home/guy/.ipython']\n"
     ]
    }
   ],
   "source": [
    "%load_ext autoreload\n",
    "%autoreload 2\n",
    "try:\n",
    "    %%tensorflow_version 1.x\n",
    "except:\n",
    "    pass\n",
    "\n",
    "import os\n",
    "import sys\n",
    "print('inserting the following to path',os.path.abspath('..'))\n",
    "sys.path.insert(0,os.path.abspath('..'))\n",
    "print(sys.path)"
   ]
  },
  {
   "cell_type": "markdown",
   "metadata": {
    "colab_type": "text",
    "id": "FtY8FhliLsGm"
   },
   "source": [
    "## Imports"
   ]
  },
  {
   "cell_type": "markdown",
   "metadata": {
    "colab_type": "text",
    "id": "gcX8hEcaUpR0"
   },
   "source": [
    "Stable-Baselines works on environments that follow the [gym interface](https://stable-baselines.readthedocs.io/en/master/guide/custom_env.html).\n",
    "You can find a list of available environment [here](https://gym.openai.com/envs/#classic_control).\n",
    "\n",
    "It is also recommended to check the [source code](https://github.com/openai/gym) to learn more about the observation and action space of each env, as gym does not have a proper documentation.\n",
    "Not all algorithms can work with all action spaces, you can find more in this [recap table](https://stable-baselines.readthedocs.io/en/master/guide/algos.html)"
   ]
  },
  {
   "cell_type": "code",
   "execution_count": 2,
   "metadata": {
    "colab": {},
    "colab_type": "code",
    "id": "BIedd7Pz9sOs"
   },
   "outputs": [],
   "source": [
    "import gym\n",
    "import numpy as np"
   ]
  },
  {
   "cell_type": "markdown",
   "metadata": {
    "colab_type": "text",
    "id": "Ae32CtgzTG3R"
   },
   "source": [
    "The first thing you need to import is the RL model, check the documentation to know what you can use on which problem"
   ]
  },
  {
   "cell_type": "code",
   "execution_count": 3,
   "metadata": {
    "colab": {},
    "colab_type": "code",
    "id": "R7tKaBFrTR0a"
   },
   "outputs": [
    {
     "name": "stdout",
     "output_type": "stream",
     "text": [
      "WARNING:tensorflow:\n",
      "The TensorFlow contrib module will not be included in TensorFlow 2.0.\n",
      "For more information, please see:\n",
      "  * https://github.com/tensorflow/community/blob/master/rfcs/20180907-contrib-sunset.md\n",
      "  * https://github.com/tensorflow/addons\n",
      "  * https://github.com/tensorflow/io (for I/O related ops)\n",
      "If you depend on functionality not listed there, please file an issue.\n",
      "\n"
     ]
    }
   ],
   "source": [
    "from stable_baselines import PPO2"
   ]
  },
  {
   "cell_type": "markdown",
   "metadata": {
    "colab_type": "text",
    "id": "-0_8OQbOTTNT"
   },
   "source": [
    "The next thing you need to import is the policy class that will be used to create the networks (for the policy/value functions).\n",
    "This step is optional as you can directly use strings in the constructor: \n",
    "\n",
    "```PPO2('MlpPolicy', env)``` instead of ```PPO2(MlpPolicy, env)```\n",
    "\n",
    "Note that some algorithms like `SAC` have their own `MlpPolicy` (different from `stable_baselines.common.policies.MlPolicy`), that's why using string for the policy is the recommened option."
   ]
  },
  {
   "cell_type": "code",
   "execution_count": 4,
   "metadata": {
    "colab": {},
    "colab_type": "code",
    "id": "ROUJr675TT01"
   },
   "outputs": [],
   "source": [
    "from stable_baselines.common.policies import MlpPolicy"
   ]
  },
  {
   "cell_type": "markdown",
   "metadata": {
    "colab_type": "text",
    "id": "nu9_iF4dUTcr"
   },
   "source": [
    "Finally, we will import a VecEnv that is required for PPO2. This will be useful later when doing multiprocessing. More on that later..."
   ]
  },
  {
   "cell_type": "code",
   "execution_count": 5,
   "metadata": {
    "colab": {},
    "colab_type": "code",
    "id": "UCEU9lBRUUe1"
   },
   "outputs": [],
   "source": [
    "from stable_baselines.common.vec_env import DummyVecEnv"
   ]
  },
  {
   "cell_type": "markdown",
   "metadata": {
    "colab_type": "text",
    "id": "RapkYvTXL7Cd"
   },
   "source": [
    "## Create the Gym env and instantiate the agent\n",
    "\n",
    "For this example, we will use CartPole environment, a classic control problem.\n",
    "\n",
    "\"A pole is attached by an un-actuated joint to a cart, which moves along a frictionless track. The system is controlled by applying a force of +1 or -1 to the cart. The pendulum starts upright, and the goal is to prevent it from falling over. A reward of +1 is provided for every timestep that the pole remains upright. \"\n",
    "\n",
    "Cartpole environment: [https://gym.openai.com/envs/CartPole-v1/](https://gym.openai.com/envs/CartPole-v1/)\n",
    "\n",
    "![Cartpole](https://cdn-images-1.medium.com/max/1143/1*h4WTQNVIsvMXJTCpXm_TAw.gif)\n",
    "\n",
    "Note: vectorized environments allow to easily multiprocess training. In this example, we are using only one process, hence the DummyVecEnv.\n",
    "\n",
    "We chose the MlpPolicy because input of CartPole is a feature vector, not images.\n",
    "\n",
    "The type of action to use (discrete/continuous) will be automatically deduced from the environment action space\n",
    "\n",
    "\n",
    "Here we are using the [Proximal Policy Optimization](https://stable-baselines.readthedocs.io/en/master/modules/ppo2.html) algorithm (PPO2 is the version optimized for GPU), which is an Actor-Critic method: it uses a value function to improve the policy gradient descent (by reducing the variance).\n",
    "\n",
    "It combines ideas from [A2C](https://stable-baselines.readthedocs.io/en/master/modules/a2c.html) (having multiple workers and using an entropy bonus for exploration) and [TRPO](https://stable-baselines.readthedocs.io/en/master/modules/trpo.html) (it uses a trust region to improve stability and avoid catastrophic drops in performance).\n",
    "\n",
    "PPO is an on-policy algorithm, which means that the trajectories used to update the networks must be collected using the latest policy.\n",
    "It is usually less sample efficient than off-policy alorithms like [DQN](https://stable-baselines.readthedocs.io/en/master/modules/dqn.html), [SAC](https://stable-baselines.readthedocs.io/en/master/modules/sac.html) or [TD3](https://stable-baselines.readthedocs.io/en/master/modules/td3.html), but is much faster regarding wall-clock time.\n"
   ]
  },
  {
   "cell_type": "code",
   "execution_count": 6,
   "metadata": {
    "colab": {},
    "colab_type": "code",
    "id": "pUWGZp3i9wyf"
   },
   "outputs": [
    {
     "name": "stdout",
     "output_type": "stream",
     "text": [
      "WARNING:tensorflow:From /home/guy/workspace/study/remote/stable-baselines/stable_baselines/common/tf_util.py:58: The name tf.ConfigProto is deprecated. Please use tf.compat.v1.ConfigProto instead.\n",
      "\n",
      "WARNING:tensorflow:From /home/guy/workspace/study/remote/stable-baselines/stable_baselines/common/tf_util.py:67: The name tf.Session is deprecated. Please use tf.compat.v1.Session instead.\n",
      "\n",
      "WARNING:tensorflow:From /home/guy/workspace/study/remote/stable-baselines/stable_baselines/common/policies.py:115: The name tf.variable_scope is deprecated. Please use tf.compat.v1.variable_scope instead.\n",
      "\n",
      "WARNING:tensorflow:From /home/guy/workspace/study/remote/stable-baselines/stable_baselines/common/input.py:25: The name tf.placeholder is deprecated. Please use tf.compat.v1.placeholder instead.\n",
      "\n",
      "WARNING:tensorflow:From /home/guy/workspace/study/remote/stable-baselines/stable_baselines/common/policies.py:560: flatten (from tensorflow.python.layers.core) is deprecated and will be removed in a future version.\n",
      "Instructions for updating:\n",
      "Use keras.layers.flatten instead.\n",
      "WARNING:tensorflow:From /home/guy/anaconda3/envs/rl15/lib/python3.7/site-packages/tensorflow_core/python/layers/core.py:332: Layer.apply (from tensorflow.python.keras.engine.base_layer) is deprecated and will be removed in a future version.\n",
      "Instructions for updating:\n",
      "Please use `layer.__call__` method instead.\n",
      "WARNING:tensorflow:From /home/guy/workspace/study/remote/stable-baselines/stable_baselines/a2c/utils.py:156: The name tf.get_variable is deprecated. Please use tf.compat.v1.get_variable instead.\n",
      "\n",
      "WARNING:tensorflow:From /home/guy/workspace/study/remote/stable-baselines/stable_baselines/common/distributions.py:326: The name tf.random_uniform is deprecated. Please use tf.random.uniform instead.\n",
      "\n",
      "WARNING:tensorflow:From /home/guy/workspace/study/remote/stable-baselines/stable_baselines/common/distributions.py:327: The name tf.log is deprecated. Please use tf.math.log instead.\n",
      "\n",
      "WARNING:tensorflow:From /home/guy/workspace/study/remote/stable-baselines/stable_baselines/ppo2/ppo2.py:189: The name tf.summary.scalar is deprecated. Please use tf.compat.v1.summary.scalar instead.\n",
      "\n",
      "WARNING:tensorflow:From /home/guy/workspace/study/remote/stable-baselines/stable_baselines/ppo2/ppo2.py:197: The name tf.trainable_variables is deprecated. Please use tf.compat.v1.trainable_variables instead.\n",
      "\n",
      "WARNING:tensorflow:From /home/guy/anaconda3/envs/rl15/lib/python3.7/site-packages/tensorflow_core/python/ops/math_grad.py:1424: where (from tensorflow.python.ops.array_ops) is deprecated and will be removed in a future version.\n",
      "Instructions for updating:\n",
      "Use tf.where in 2.0, which has the same broadcast rule as np.where\n",
      "WARNING:tensorflow:From /home/guy/workspace/study/remote/stable-baselines/stable_baselines/ppo2/ppo2.py:205: The name tf.train.AdamOptimizer is deprecated. Please use tf.compat.v1.train.AdamOptimizer instead.\n",
      "\n",
      "WARNING:tensorflow:From /home/guy/workspace/study/remote/stable-baselines/stable_baselines/ppo2/ppo2.py:239: The name tf.global_variables_initializer is deprecated. Please use tf.compat.v1.global_variables_initializer instead.\n",
      "\n",
      "WARNING:tensorflow:From /home/guy/workspace/study/remote/stable-baselines/stable_baselines/ppo2/ppo2.py:241: The name tf.summary.merge_all is deprecated. Please use tf.compat.v1.summary.merge_all instead.\n",
      "\n"
     ]
    }
   ],
   "source": [
    "env = gym.make('CartPole-v1')\n",
    "# vectorized environments allow to easily multiprocess training\n",
    "# we demonstrate its usefulness in the next examples\n",
    "env = DummyVecEnv([lambda: env])  # The algorithms require a vectorized environment to run\n",
    "\n",
    "model = PPO2(MlpPolicy, env, verbose=0)"
   ]
  },
  {
   "cell_type": "markdown",
   "metadata": {
    "colab_type": "text",
    "id": "4efFdrQ7MBvl"
   },
   "source": [
    "We create a helper function to evaluate the agent:"
   ]
  },
  {
   "cell_type": "code",
   "execution_count": 7,
   "metadata": {
    "colab": {},
    "colab_type": "code",
    "id": "63M8mSKR-6Zt"
   },
   "outputs": [],
   "source": [
    "def evaluate(model, num_episodes=100):\n",
    "    \"\"\"\n",
    "    Evaluate a RL agent\n",
    "    :param model: (BaseRLModel object) the RL Agent\n",
    "    :param num_episodes: (int) number of episodes to evaluate it\n",
    "    :return: (float) Mean reward for the last num_episodes\n",
    "    \"\"\"\n",
    "    # This function will only work for a single Environment\n",
    "    env = model.get_env()\n",
    "    all_episode_rewards = []\n",
    "    for i in range(num_episodes):\n",
    "        episode_rewards = []\n",
    "        done = False\n",
    "        obs = env.reset()\n",
    "        while not done:\n",
    "            # _states are only useful when using LSTM policies\n",
    "            action, _states = model.predict(obs)\n",
    "            # here, action, rewards and dones are arrays\n",
    "            # because we are using vectorized env\n",
    "            obs, reward, done, info = env.step(action)\n",
    "            episode_rewards.append(reward)\n",
    "\n",
    "        all_episode_rewards.append(sum(episode_rewards))\n",
    "\n",
    "    mean_episode_reward = np.mean(all_episode_rewards)\n",
    "    print(\"Mean reward:\", mean_episode_reward, \"Num episodes:\", num_episodes)\n",
    "\n",
    "    return mean_episode_reward"
   ]
  },
  {
   "cell_type": "markdown",
   "metadata": {
    "colab_type": "text",
    "id": "zjEVOIY8NVeK"
   },
   "source": [
    "Let's evaluate the un-trained agent, this should be a random agent."
   ]
  },
  {
   "cell_type": "code",
   "execution_count": 8,
   "metadata": {
    "colab": {
     "base_uri": "https://localhost:8080/",
     "height": 35
    },
    "colab_type": "code",
    "id": "xDHLMA6NFk95",
    "outputId": "d5039fc4-8aa4-4e7c-a770-1be311fd106a"
   },
   "outputs": [
    {
     "name": "stdout",
     "output_type": "stream",
     "text": [
      "Mean reward: 24.92 Num episodes: 100\n"
     ]
    }
   ],
   "source": [
    "# Random Agent, before training\n",
    "mean_reward_before_train = evaluate(model, num_episodes=100)"
   ]
  },
  {
   "cell_type": "markdown",
   "metadata": {
    "colab_type": "text",
    "id": "r5UoXTZPNdFE"
   },
   "source": [
    "## Train the agent and evaluate it"
   ]
  },
  {
   "cell_type": "code",
   "execution_count": 9,
   "metadata": {
    "colab": {
     "base_uri": "https://localhost:8080/",
     "height": 35
    },
    "colab_type": "code",
    "id": "e4cfSXIB-pTF",
    "outputId": "d861ecf1-3986-4f36-c078-664d5ba82ea8"
   },
   "outputs": [
    {
     "data": {
      "text/plain": [
       "<stable_baselines.ppo2.ppo2.PPO2 at 0x7f7b25a51ed0>"
      ]
     },
     "execution_count": 9,
     "metadata": {},
     "output_type": "execute_result"
    }
   ],
   "source": [
    "# Train the agent for 10000 steps\n",
    "model.learn(total_timesteps=10000)"
   ]
  },
  {
   "cell_type": "code",
   "execution_count": 10,
   "metadata": {
    "colab": {
     "base_uri": "https://localhost:8080/",
     "height": 35
    },
    "colab_type": "code",
    "id": "ygl_gVmV_QP7",
    "outputId": "8de61bb2-a0e7-42ac-bac8-993535ea1b34"
   },
   "outputs": [
    {
     "name": "stdout",
     "output_type": "stream",
     "text": [
      "Mean reward: 169.06 Num episodes: 100\n"
     ]
    }
   ],
   "source": [
    "# Evaluate the trained agent\n",
    "mean_reward = evaluate(model, num_episodes=100)"
   ]
  },
  {
   "cell_type": "markdown",
   "metadata": {
    "colab_type": "text",
    "id": "A00W6yY3NkHG"
   },
   "source": [
    "Apparently the training went well, the mean reward increased a lot ! "
   ]
  },
  {
   "cell_type": "markdown",
   "metadata": {
    "colab_type": "text",
    "id": "xVm9QPNVwKXN"
   },
   "source": [
    "### Prepare video recording"
   ]
  },
  {
   "cell_type": "code",
   "execution_count": 11,
   "metadata": {
    "colab": {},
    "colab_type": "code",
    "id": "MPyfQxD5z26J"
   },
   "outputs": [],
   "source": [
    "# Set up fake display; otherwise rendering will fail\n",
    "import os\n",
    "os.system(\"Xvfb :1 -screen 0 1024x768x24 &\")\n",
    "os.environ['DISPLAY'] = ':1'"
   ]
  },
  {
   "cell_type": "code",
   "execution_count": 0,
   "metadata": {
    "colab": {},
    "colab_type": "code",
    "id": "HS1VBBaQ_emT"
   },
   "outputs": [],
   "source": [
    "# !pip install pyglet==1.3.1  # pyglet v1.4.1 throws an error"
   ]
  },
  {
   "cell_type": "code",
   "execution_count": 12,
   "metadata": {
    "colab": {},
    "colab_type": "code",
    "id": "SLzXxO8VMD6N"
   },
   "outputs": [],
   "source": [
    "import base64\n",
    "from pathlib import Path\n",
    "\n",
    "from IPython import display as ipythondisplay\n",
    "\n",
    "def show_videos(video_path='', prefix=''):\n",
    "  \"\"\"\n",
    "  Taken from https://github.com/eleurent/highway-env\n",
    "\n",
    "  :param video_path: (str) Path to the folder containing videos\n",
    "  :param prefix: (str) Filter the video, showing only the only starting with this prefix\n",
    "  \"\"\"\n",
    "  html = []\n",
    "  for mp4 in Path(video_path).glob(\"{}*.mp4\".format(prefix)):\n",
    "      video_b64 = base64.b64encode(mp4.read_bytes())\n",
    "      html.append('''<video alt=\"{}\" autoplay \n",
    "                    loop controls style=\"height: 400px;\">\n",
    "                    <source src=\"data:video/mp4;base64,{}\" type=\"video/mp4\" />\n",
    "                </video>'''.format(mp4, video_b64.decode('ascii')))\n",
    "  ipythondisplay.display(ipythondisplay.HTML(data=\"<br>\".join(html)))"
   ]
  },
  {
   "cell_type": "markdown",
   "metadata": {
    "colab_type": "text",
    "id": "LTRNUfulOGaF"
   },
   "source": [
    "We will record a video using the [VecVideoRecorder](https://stable-baselines.readthedocs.io/en/master/guide/vec_envs.html#vecvideorecorder) wrapper, you will learn about those wrapper in the next notebook."
   ]
  },
  {
   "cell_type": "code",
   "execution_count": 0,
   "metadata": {
    "colab": {},
    "colab_type": "code",
    "id": "Trag9dQpOIhx"
   },
   "outputs": [],
   "source": [
    "from stable_baselines.common.vec_env import VecVideoRecorder\n",
    "\n",
    "def record_video(env_id, model, video_length=500, prefix='', video_folder='videos/'):\n",
    "  \"\"\"\n",
    "  :param env_id: (str)\n",
    "  :param model: (RL model)\n",
    "  :param video_length: (int)\n",
    "  :param prefix: (str)\n",
    "  :param video_folder: (str)\n",
    "  \"\"\"\n",
    "  eval_env = DummyVecEnv([lambda: gym.make(env_id)])\n",
    "  # Start the video at step=0 and record 500 steps\n",
    "  eval_env = VecVideoRecorder(env, video_folder=video_folder,\n",
    "                              record_video_trigger=lambda step: step == 0, video_length=video_length,\n",
    "                              name_prefix=prefix)\n",
    "\n",
    "  obs = eval_env.reset()\n",
    "  for _ in range(video_length):\n",
    "    action, _ = model.predict(obs)\n",
    "    obs, _, _, _ = eval_env.step(action)\n",
    "\n",
    "  # Close the video recorder\n",
    "  eval_env.close()"
   ]
  },
  {
   "cell_type": "markdown",
   "metadata": {
    "colab_type": "text",
    "id": "KOObbeu5MMlR"
   },
   "source": [
    "### Visualize trained agent\n",
    "\n"
   ]
  },
  {
   "cell_type": "code",
   "execution_count": 0,
   "metadata": {
    "colab": {
     "base_uri": "https://localhost:8080/",
     "height": 35
    },
    "colab_type": "code",
    "id": "iATu7AiyMQW2",
    "outputId": "45feec21-11b5-4aea-c580-2993fc3d2b81"
   },
   "outputs": [
    {
     "name": "stdout",
     "output_type": "stream",
     "text": [
      "Saving video to  /content/videos/ppo2-cartpole-step-0-to-step-500.mp4\n"
     ]
    }
   ],
   "source": [
    "record_video('CartPole-v1', model, video_length=500, prefix='ppo2-cartpole')"
   ]
  },
  {
   "cell_type": "code",
   "execution_count": 0,
   "metadata": {
    "colab": {
     "base_uri": "https://localhost:8080/",
     "height": 420
    },
    "colab_type": "code",
    "id": "-n4i-fW3NojZ",
    "outputId": "345d869b-3bc6-48eb-86d2-949fadf5d4fe"
   },
   "outputs": [
    {
     "data": {
      "text/html": [
       "<video alt=\"videos/ppo2-cartpole-step-0-to-step-500.mp4\" autoplay \n",
       "                    loop controls style=\"height: 400px;\">\n",
       "                    <source src=\"data:video/mp4;base64,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\" type=\"video/mp4\" />\n",
       "                </video>"
      ],
      "text/plain": [
       "<IPython.core.display.HTML object>"
      ]
     },
     "metadata": {
      "tags": []
     },
     "output_type": "display_data"
    }
   ],
   "source": [
    "show_videos('videos', prefix='ppo2')"
   ]
  },
  {
   "cell_type": "markdown",
   "metadata": {
    "colab_type": "text",
    "id": "9Y8zg4V566qD"
   },
   "source": [
    "## Bonus: Train a RL Model in One Line\n",
    "\n",
    "The policy class to use will be inferred and the environment will be automatically created. This works because both are [registered](https://stable-baselines.readthedocs.io/en/master/guide/quickstart.html)."
   ]
  },
  {
   "cell_type": "code",
   "execution_count": 0,
   "metadata": {
    "colab": {},
    "colab_type": "code",
    "id": "iaOPfOrwWEP4"
   },
   "outputs": [],
   "source": [
    "model = PPO2('MlpPolicy', \"CartPole-v1\", verbose=1).learn(1000)"
   ]
  },
  {
   "cell_type": "code",
   "execution_count": 0,
   "metadata": {
    "colab": {},
    "colab_type": "code",
    "id": "Se8SHBN17Fy4"
   },
   "outputs": [],
   "source": []
  },
  {
   "cell_type": "markdown",
   "metadata": {
    "colab_type": "text",
    "id": "WBf84jU05mgi"
   },
   "source": [
    "## Train a DQN agent\n",
    "\n",
    "In the previous example, we have used PPO, which one of the many algorithms provided by stable-baselines.\n",
    "\n",
    "In the next example, we are going train a [Deep Q-Network agent (DQN)](https://stable-baselines.readthedocs.io/en/master/modules/dqn.html), and try to see possible improvements provided by its extensions (Double-DQN, Dueling-DQN, Prioritized Experience Replay).\n",
    "\n",
    "The essential point of this section is to show you how simple it is to tweak hyperparameters.\n",
    "\n",
    "The main advantage of stable-baselines is that it provides a common interface to use the algorithms, so the code will be quite similar.\n",
    "\n",
    "\n",
    "DQN paper: https://arxiv.org/abs/1312.5602\n",
    "\n",
    "Dueling DQN: https://arxiv.org/abs/1511.06581\n",
    "\n",
    "Double-Q Learning: https://arxiv.org/abs/1509.06461\n",
    "\n",
    "Prioritized Experience Replay: https://arxiv.org/abs/1511.05952"
   ]
  },
  {
   "cell_type": "markdown",
   "metadata": {
    "colab_type": "text",
    "id": "kikNl-tT92Ae"
   },
   "source": [
    "### Vanilla DQN: DQN without extensions"
   ]
  },
  {
   "cell_type": "code",
   "execution_count": 13,
   "metadata": {
    "colab": {},
    "colab_type": "code",
    "id": "tdLdYABz8TJx"
   },
   "outputs": [
    {
     "name": "stdout",
     "output_type": "stream",
     "text": [
      "Creating environment from the given name, wrapped in a DummyVecEnv.\n",
      "WARNING:tensorflow:From /home/guy/workspace/study/remote/stable-baselines/stable_baselines/deepq/build_graph.py:372: The name tf.get_collection is deprecated. Please use tf.compat.v1.get_collection instead.\n",
      "\n",
      "WARNING:tensorflow:From /home/guy/workspace/study/remote/stable-baselines/stable_baselines/deepq/build_graph.py:372: The name tf.GraphKeys is deprecated. Please use tf.compat.v1.GraphKeys instead.\n",
      "\n",
      "WARNING:tensorflow:From /home/guy/workspace/study/remote/stable-baselines/stable_baselines/deepq/build_graph.py:372: The name tf.get_variable_scope is deprecated. Please use tf.compat.v1.get_variable_scope instead.\n",
      "\n",
      "WARNING:tensorflow:From /home/guy/workspace/study/remote/stable-baselines/stable_baselines/common/tf_util.py:108: The name tf.global_variables is deprecated. Please use tf.compat.v1.global_variables instead.\n",
      "\n",
      "WARNING:tensorflow:From /home/guy/workspace/study/remote/stable-baselines/stable_baselines/common/tf_util.py:109: The name tf.variables_initializer is deprecated. Please use tf.compat.v1.variables_initializer instead.\n",
      "\n"
     ]
    }
   ],
   "source": [
    "# Same as before we instantiate the agent along with the environment\n",
    "from stable_baselines import DQN\n",
    "\n",
    "# Deactivate all the DQN extensions to have the original version\n",
    "# In practice, it is recommend to have them activated\n",
    "kwargs = {'double_q': False, 'prioritized_replay': False, 'policy_kwargs': dict(dueling=False)}\n",
    "\n",
    "# Note that the MlpPolicy of DQN is different from the one of PPO\n",
    "# but stable-baselines handles that automatically if you pass a string\n",
    "dqn_model = DQN('MlpPolicy', 'CartPole-v1', verbose=1, **kwargs)"
   ]
  },
  {
   "cell_type": "code",
   "execution_count": 14,
   "metadata": {
    "colab": {
     "base_uri": "https://localhost:8080/",
     "height": 35
    },
    "colab_type": "code",
    "id": "E4A_IOZ_9fzW",
    "outputId": "b682bbf9-5de9-40d2-f9ff-b031598c5dd2"
   },
   "outputs": [
    {
     "name": "stdout",
     "output_type": "stream",
     "text": [
      "Mean reward: 10.02 Num episodes: 100\n"
     ]
    }
   ],
   "source": [
    "# Random Agent, before training\n",
    "mean_reward_before_train = evaluate(dqn_model, num_episodes=100)"
   ]
  },
  {
   "cell_type": "code",
   "execution_count": 15,
   "metadata": {
    "colab": {},
    "colab_type": "code",
    "id": "4wbuvAKk9spH"
   },
   "outputs": [
    {
     "name": "stdout",
     "output_type": "stream",
     "text": [
      "WARNING:tensorflow:From /home/guy/workspace/study/remote/stable-baselines/stable_baselines/common/tf_util.py:188: The name tf.get_default_session is deprecated. Please use tf.compat.v1.get_default_session instead.\n",
      "\n",
      "--------------------------------------\n",
      "| % time spent exploring  | 84       |\n",
      "| episodes                | 10       |\n",
      "| mean 100 episode reward | 18.2     |\n",
      "| steps                   | 163      |\n",
      "--------------------------------------\n",
      "--------------------------------------\n",
      "| % time spent exploring  | 65       |\n",
      "| episodes                | 20       |\n",
      "| mean 100 episode reward | 18.5     |\n",
      "| steps                   | 351      |\n",
      "--------------------------------------\n",
      "--------------------------------------\n",
      "| % time spent exploring  | 52       |\n",
      "| episodes                | 30       |\n",
      "| mean 100 episode reward | 16.9     |\n",
      "| steps                   | 488      |\n",
      "--------------------------------------\n",
      "--------------------------------------\n",
      "| % time spent exploring  | 35       |\n",
      "| episodes                | 40       |\n",
      "| mean 100 episode reward | 17       |\n",
      "| steps                   | 661      |\n",
      "--------------------------------------\n",
      "--------------------------------------\n",
      "| % time spent exploring  | 22       |\n",
      "| episodes                | 50       |\n",
      "| mean 100 episode reward | 16.1     |\n",
      "| steps                   | 788      |\n",
      "--------------------------------------\n",
      "--------------------------------------\n",
      "| % time spent exploring  | 12       |\n",
      "| episodes                | 60       |\n",
      "| mean 100 episode reward | 15.2     |\n",
      "| steps                   | 894      |\n",
      "--------------------------------------\n",
      "--------------------------------------\n",
      "| % time spent exploring  | 2        |\n",
      "| episodes                | 70       |\n",
      "| mean 100 episode reward | 14.4     |\n",
      "| steps                   | 996      |\n",
      "--------------------------------------\n",
      "--------------------------------------\n",
      "| % time spent exploring  | 2        |\n",
      "| episodes                | 80       |\n",
      "| mean 100 episode reward | 14.1     |\n",
      "| steps                   | 1109     |\n",
      "--------------------------------------\n",
      "--------------------------------------\n",
      "| % time spent exploring  | 2        |\n",
      "| episodes                | 90       |\n",
      "| mean 100 episode reward | 13.8     |\n",
      "| steps                   | 1225     |\n",
      "--------------------------------------\n",
      "--------------------------------------\n",
      "| % time spent exploring  | 2        |\n",
      "| episodes                | 100      |\n",
      "| mean 100 episode reward | 13.3     |\n",
      "| steps                   | 1319     |\n",
      "--------------------------------------\n",
      "--------------------------------------\n",
      "| % time spent exploring  | 2        |\n",
      "| episodes                | 110      |\n",
      "| mean 100 episode reward | 12.5     |\n",
      "| steps                   | 1415     |\n",
      "--------------------------------------\n",
      "--------------------------------------\n",
      "| % time spent exploring  | 2        |\n",
      "| episodes                | 120      |\n",
      "| mean 100 episode reward | 11.7     |\n",
      "| steps                   | 1518     |\n",
      "--------------------------------------\n",
      "--------------------------------------\n",
      "| % time spent exploring  | 2        |\n",
      "| episodes                | 130      |\n",
      "| mean 100 episode reward | 11.3     |\n",
      "| steps                   | 1618     |\n",
      "--------------------------------------\n",
      "--------------------------------------\n",
      "| % time spent exploring  | 2        |\n",
      "| episodes                | 140      |\n",
      "| mean 100 episode reward | 10.6     |\n",
      "| steps                   | 1717     |\n",
      "--------------------------------------\n",
      "--------------------------------------\n",
      "| % time spent exploring  | 2        |\n",
      "| episodes                | 150      |\n",
      "| mean 100 episode reward | 10.3     |\n",
      "| steps                   | 1819     |\n",
      "--------------------------------------\n",
      "--------------------------------------\n",
      "| % time spent exploring  | 2        |\n",
      "| episodes                | 160      |\n",
      "| mean 100 episode reward | 10.4     |\n",
      "| steps                   | 1937     |\n",
      "--------------------------------------\n",
      "--------------------------------------\n",
      "| % time spent exploring  | 2        |\n",
      "| episodes                | 170      |\n",
      "| mean 100 episode reward | 10.4     |\n",
      "| steps                   | 2034     |\n",
      "--------------------------------------\n",
      "--------------------------------------\n",
      "| % time spent exploring  | 2        |\n",
      "| episodes                | 180      |\n",
      "| mean 100 episode reward | 10.5     |\n",
      "| steps                   | 2160     |\n",
      "--------------------------------------\n",
      "--------------------------------------\n",
      "| % time spent exploring  | 2        |\n",
      "| episodes                | 190      |\n",
      "| mean 100 episode reward | 10.6     |\n",
      "| steps                   | 2286     |\n",
      "--------------------------------------\n",
      "--------------------------------------\n",
      "| % time spent exploring  | 2        |\n",
      "| episodes                | 200      |\n",
      "| mean 100 episode reward | 10.7     |\n",
      "| steps                   | 2389     |\n",
      "--------------------------------------\n",
      "--------------------------------------\n",
      "| % time spent exploring  | 2        |\n",
      "| episodes                | 210      |\n",
      "| mean 100 episode reward | 10.9     |\n",
      "| steps                   | 2502     |\n",
      "--------------------------------------\n",
      "--------------------------------------\n",
      "| % time spent exploring  | 2        |\n",
      "| episodes                | 220      |\n",
      "| mean 100 episode reward | 11.1     |\n",
      "| steps                   | 2630     |\n",
      "--------------------------------------\n",
      "--------------------------------------\n",
      "| % time spent exploring  | 2        |\n",
      "| episodes                | 230      |\n",
      "| mean 100 episode reward | 11.7     |\n",
      "| steps                   | 2790     |\n",
      "--------------------------------------\n",
      "--------------------------------------\n",
      "| % time spent exploring  | 2        |\n",
      "| episodes                | 240      |\n",
      "| mean 100 episode reward | 13       |\n",
      "| steps                   | 3016     |\n",
      "--------------------------------------\n",
      "--------------------------------------\n",
      "| % time spent exploring  | 2        |\n",
      "| episodes                | 250      |\n",
      "| mean 100 episode reward | 22.3     |\n",
      "| steps                   | 4051     |\n",
      "--------------------------------------\n",
      "--------------------------------------\n",
      "| % time spent exploring  | 2        |\n",
      "| episodes                | 260      |\n",
      "| mean 100 episode reward | 33.1     |\n",
      "| steps                   | 5251     |\n",
      "--------------------------------------\n",
      "--------------------------------------\n",
      "| % time spent exploring  | 2        |\n",
      "| episodes                | 270      |\n",
      "| mean 100 episode reward | 48.5     |\n",
      "| steps                   | 6889     |\n",
      "--------------------------------------\n",
      "--------------------------------------\n",
      "| % time spent exploring  | 2        |\n",
      "| episodes                | 280      |\n",
      "| mean 100 episode reward | 61.9     |\n",
      "| steps                   | 8346     |\n",
      "--------------------------------------\n"
     ]
    },
    {
     "data": {
      "text/plain": [
       "<stable_baselines.deepq.dqn.DQN at 0x7f7b00060950>"
      ]
     },
     "execution_count": 15,
     "metadata": {},
     "output_type": "execute_result"
    }
   ],
   "source": [
    "# Train the agent for 10000 steps\n",
    "dqn_model.learn(total_timesteps=10000, log_interval=10)"
   ]
  },
  {
   "cell_type": "code",
   "execution_count": 16,
   "metadata": {
    "colab": {
     "base_uri": "https://localhost:8080/",
     "height": 35
    },
    "colab_type": "code",
    "id": "QDQTdpYv9xJN",
    "outputId": "363f5ed3-5bb1-4ce2-e218-10018818ecc9"
   },
   "outputs": [
    {
     "name": "stdout",
     "output_type": "stream",
     "text": [
      "Mean reward: 189.93 Num episodes: 100\n"
     ]
    }
   ],
   "source": [
    "# Evaluate the trained agent\n",
    "mean_reward = evaluate(dqn_model, num_episodes=100)"
   ]
  },
  {
   "cell_type": "markdown",
   "metadata": {
    "colab_type": "text",
    "id": "GFJvqsMl96l7"
   },
   "source": [
    "### DQN + Prioritized Replay"
   ]
  },
  {
   "cell_type": "code",
   "execution_count": 17,
   "metadata": {
    "colab": {},
    "colab_type": "code",
    "id": "roCSjGu69-lA"
   },
   "outputs": [
    {
     "name": "stdout",
     "output_type": "stream",
     "text": [
      "Creating environment from the given name, wrapped in a DummyVecEnv.\n"
     ]
    }
   ],
   "source": [
    "# Activate only the prioritized replay\n",
    "kwargs = {'double_q': False, 'prioritized_replay': True, 'policy_kwargs': dict(dueling=False)}\n",
    "\n",
    "dqn_per_model = DQN('MlpPolicy', 'CartPole-v1', verbose=1, **kwargs)"
   ]
  },
  {
   "cell_type": "code",
   "execution_count": 18,
   "metadata": {
    "colab": {},
    "colab_type": "code",
    "id": "DLnLhos5-lRm"
   },
   "outputs": [
    {
     "name": "stdout",
     "output_type": "stream",
     "text": [
      "--------------------------------------\n",
      "| % time spent exploring  | 82       |\n",
      "| episodes                | 10       |\n",
      "| mean 100 episode reward | 19.7     |\n",
      "| steps                   | 176      |\n",
      "--------------------------------------\n",
      "--------------------------------------\n",
      "| % time spent exploring  | 64       |\n",
      "| episodes                | 20       |\n",
      "| mean 100 episode reward | 18.9     |\n",
      "| steps                   | 358      |\n",
      "--------------------------------------\n",
      "--------------------------------------\n",
      "| % time spent exploring  | 46       |\n",
      "| episodes                | 30       |\n",
      "| mean 100 episode reward | 19       |\n",
      "| steps                   | 550      |\n",
      "--------------------------------------\n",
      "--------------------------------------\n",
      "| % time spent exploring  | 32       |\n",
      "| episodes                | 40       |\n",
      "| mean 100 episode reward | 17.7     |\n",
      "| steps                   | 689      |\n",
      "--------------------------------------\n",
      "--------------------------------------\n",
      "| % time spent exploring  | 18       |\n",
      "| episodes                | 50       |\n",
      "| mean 100 episode reward | 17.1     |\n",
      "| steps                   | 836      |\n",
      "--------------------------------------\n",
      "--------------------------------------\n",
      "| % time spent exploring  | 7        |\n",
      "| episodes                | 60       |\n",
      "| mean 100 episode reward | 16       |\n",
      "| steps                   | 944      |\n",
      "--------------------------------------\n",
      "--------------------------------------\n",
      "| % time spent exploring  | 2        |\n",
      "| episodes                | 70       |\n",
      "| mean 100 episode reward | 15.1     |\n",
      "| steps                   | 1044     |\n",
      "--------------------------------------\n",
      "--------------------------------------\n",
      "| % time spent exploring  | 2        |\n",
      "| episodes                | 80       |\n",
      "| mean 100 episode reward | 14.4     |\n",
      "| steps                   | 1137     |\n",
      "--------------------------------------\n",
      "--------------------------------------\n",
      "| % time spent exploring  | 2        |\n",
      "| episodes                | 90       |\n",
      "| mean 100 episode reward | 15.8     |\n",
      "| steps                   | 1404     |\n",
      "--------------------------------------\n",
      "--------------------------------------\n",
      "| % time spent exploring  | 2        |\n",
      "| episodes                | 100      |\n",
      "| mean 100 episode reward | 15.6     |\n",
      "| steps                   | 1546     |\n",
      "--------------------------------------\n",
      "--------------------------------------\n",
      "| % time spent exploring  | 2        |\n",
      "| episodes                | 110      |\n",
      "| mean 100 episode reward | 15.1     |\n",
      "| steps                   | 1682     |\n",
      "--------------------------------------\n",
      "--------------------------------------\n",
      "| % time spent exploring  | 2        |\n",
      "| episodes                | 120      |\n",
      "| mean 100 episode reward | 14.3     |\n",
      "| steps                   | 1789     |\n",
      "--------------------------------------\n",
      "--------------------------------------\n",
      "| % time spent exploring  | 2        |\n",
      "| episodes                | 130      |\n",
      "| mean 100 episode reward | 13.5     |\n",
      "| steps                   | 1898     |\n",
      "--------------------------------------\n",
      "--------------------------------------\n",
      "| % time spent exploring  | 2        |\n",
      "| episodes                | 140      |\n",
      "| mean 100 episode reward | 13.3     |\n",
      "| steps                   | 2016     |\n",
      "--------------------------------------\n",
      "--------------------------------------\n",
      "| % time spent exploring  | 2        |\n",
      "| episodes                | 150      |\n",
      "| mean 100 episode reward | 12.9     |\n",
      "| steps                   | 2125     |\n",
      "--------------------------------------\n",
      "--------------------------------------\n",
      "| % time spent exploring  | 2        |\n",
      "| episodes                | 160      |\n",
      "| mean 100 episode reward | 13       |\n",
      "| steps                   | 2241     |\n",
      "--------------------------------------\n",
      "--------------------------------------\n",
      "| % time spent exploring  | 2        |\n",
      "| episodes                | 170      |\n",
      "| mean 100 episode reward | 13.1     |\n",
      "| steps                   | 2356     |\n",
      "--------------------------------------\n",
      "--------------------------------------\n",
      "| % time spent exploring  | 2        |\n",
      "| episodes                | 180      |\n",
      "| mean 100 episode reward | 13.3     |\n",
      "| steps                   | 2471     |\n",
      "--------------------------------------\n",
      "--------------------------------------\n",
      "| % time spent exploring  | 2        |\n",
      "| episodes                | 190      |\n",
      "| mean 100 episode reward | 11.8     |\n",
      "| steps                   | 2584     |\n",
      "--------------------------------------\n",
      "--------------------------------------\n",
      "| % time spent exploring  | 2        |\n",
      "| episodes                | 200      |\n",
      "| mean 100 episode reward | 11.7     |\n",
      "| steps                   | 2720     |\n",
      "--------------------------------------\n",
      "--------------------------------------\n",
      "| % time spent exploring  | 2        |\n",
      "| episodes                | 210      |\n",
      "| mean 100 episode reward | 12.2     |\n",
      "| steps                   | 2900     |\n",
      "--------------------------------------\n",
      "--------------------------------------\n",
      "| % time spent exploring  | 2        |\n",
      "| episodes                | 220      |\n",
      "| mean 100 episode reward | 13.6     |\n",
      "| steps                   | 3151     |\n",
      "--------------------------------------\n",
      "--------------------------------------\n",
      "| % time spent exploring  | 2        |\n",
      "| episodes                | 230      |\n",
      "| mean 100 episode reward | 17.9     |\n",
      "| steps                   | 3687     |\n",
      "--------------------------------------\n",
      "--------------------------------------\n",
      "| % time spent exploring  | 2        |\n",
      "| episodes                | 240      |\n",
      "| mean 100 episode reward | 25.4     |\n",
      "| steps                   | 4551     |\n",
      "--------------------------------------\n",
      "--------------------------------------\n",
      "| % time spent exploring  | 2        |\n",
      "| episodes                | 250      |\n",
      "| mean 100 episode reward | 44       |\n",
      "| steps                   | 6530     |\n",
      "--------------------------------------\n",
      "--------------------------------------\n",
      "| % time spent exploring  | 2        |\n",
      "| episodes                | 260      |\n",
      "| mean 100 episode reward | 60.2     |\n",
      "| steps                   | 8259     |\n",
      "--------------------------------------\n",
      "--------------------------------------\n",
      "| % time spent exploring  | 2        |\n",
      "| episodes                | 270      |\n",
      "| mean 100 episode reward | 73.7     |\n",
      "| steps                   | 9723     |\n",
      "--------------------------------------\n"
     ]
    },
    {
     "data": {
      "text/plain": [
       "<stable_baselines.deepq.dqn.DQN at 0x7f7acc020350>"
      ]
     },
     "execution_count": 18,
     "metadata": {},
     "output_type": "execute_result"
    }
   ],
   "source": [
    "dqn_per_model.learn(total_timesteps=10000, log_interval=10)"
   ]
  },
  {
   "cell_type": "code",
   "execution_count": 21,
   "metadata": {
    "colab": {
     "base_uri": "https://localhost:8080/",
     "height": 35
    },
    "colab_type": "code",
    "id": "xQjF5S_g-mFN",
    "outputId": "4ce14e23-8f2b-40c1-90e1-b333d36f6997"
   },
   "outputs": [
    {
     "name": "stdout",
     "output_type": "stream",
     "text": [
      "Mean reward: 124.75 Num episodes: 100\n"
     ]
    }
   ],
   "source": [
    "# Evaluate the trained agent\n",
    "mean_reward = evaluate(dqn_per_model, num_episodes=100)"
   ]
  },
  {
   "cell_type": "markdown",
   "metadata": {
    "colab_type": "text",
    "id": "Skny8MUN9_Ky"
   },
   "source": [
    "### DQN + Prioritized Experience Replay + Double Q-Learning + Dueling"
   ]
  },
  {
   "cell_type": "code",
   "execution_count": 22,
   "metadata": {
    "colab": {
     "base_uri": "https://localhost:8080/",
     "height": 35
    },
    "colab_type": "code",
    "id": "fDCys-Vg-yYR",
    "outputId": "a3bc7511-d247-47ca-952e-53e95a1597a6"
   },
   "outputs": [
    {
     "name": "stdout",
     "output_type": "stream",
     "text": [
      "Creating environment from the given name, wrapped in a DummyVecEnv.\n"
     ]
    }
   ],
   "source": [
    "# Activate all extensions\n",
    "kwargs = {'double_q': True, 'prioritized_replay': True, 'policy_kwargs': dict(dueling=True)}\n",
    "\n",
    "dqn_full_model = DQN('MlpPolicy', 'CartPole-v1', verbose=1, **kwargs)"
   ]
  },
  {
   "cell_type": "code",
   "execution_count": 23,
   "metadata": {
    "colab": {},
    "colab_type": "code",
    "id": "koHGB-VN-81O"
   },
   "outputs": [
    {
     "name": "stdout",
     "output_type": "stream",
     "text": [
      "--------------------------------------\n",
      "| % time spent exploring  | 87       |\n",
      "| episodes                | 10       |\n",
      "| mean 100 episode reward | 14.6     |\n",
      "| steps                   | 130      |\n",
      "--------------------------------------\n",
      "--------------------------------------\n",
      "| % time spent exploring  | 65       |\n",
      "| episodes                | 20       |\n",
      "| mean 100 episode reward | 18.4     |\n",
      "| steps                   | 349      |\n",
      "--------------------------------------\n",
      "--------------------------------------\n",
      "| % time spent exploring  | 51       |\n",
      "| episodes                | 30       |\n",
      "| mean 100 episode reward | 17.2     |\n",
      "| steps                   | 498      |\n",
      "--------------------------------------\n",
      "--------------------------------------\n",
      "| % time spent exploring  | 39       |\n",
      "| episodes                | 40       |\n",
      "| mean 100 episode reward | 15.8     |\n",
      "| steps                   | 617      |\n",
      "--------------------------------------\n",
      "--------------------------------------\n",
      "| % time spent exploring  | 27       |\n",
      "| episodes                | 50       |\n",
      "| mean 100 episode reward | 15.2     |\n",
      "| steps                   | 743      |\n",
      "--------------------------------------\n",
      "--------------------------------------\n",
      "| % time spent exploring  | 17       |\n",
      "| episodes                | 60       |\n",
      "| mean 100 episode reward | 14.4     |\n",
      "| steps                   | 846      |\n",
      "--------------------------------------\n",
      "--------------------------------------\n",
      "| % time spent exploring  | 7        |\n",
      "| episodes                | 70       |\n",
      "| mean 100 episode reward | 13.7     |\n",
      "| steps                   | 946      |\n",
      "--------------------------------------\n",
      "--------------------------------------\n",
      "| % time spent exploring  | 2        |\n",
      "| episodes                | 80       |\n",
      "| mean 100 episode reward | 13.3     |\n",
      "| steps                   | 1046     |\n",
      "--------------------------------------\n",
      "--------------------------------------\n",
      "| % time spent exploring  | 2        |\n",
      "| episodes                | 90       |\n",
      "| mean 100 episode reward | 12.8     |\n",
      "| steps                   | 1136     |\n",
      "--------------------------------------\n",
      "--------------------------------------\n",
      "| % time spent exploring  | 2        |\n",
      "| episodes                | 100      |\n",
      "| mean 100 episode reward | 13.7     |\n",
      "| steps                   | 1355     |\n",
      "--------------------------------------\n",
      "--------------------------------------\n",
      "| % time spent exploring  | 2        |\n",
      "| episodes                | 110      |\n",
      "| mean 100 episode reward | 17.1     |\n",
      "| steps                   | 1835     |\n",
      "--------------------------------------\n",
      "--------------------------------------\n",
      "| % time spent exploring  | 2        |\n",
      "| episodes                | 120      |\n",
      "| mean 100 episode reward | 21.1     |\n",
      "| steps                   | 2463     |\n",
      "--------------------------------------\n",
      "--------------------------------------\n",
      "| % time spent exploring  | 2        |\n",
      "| episodes                | 130      |\n",
      "| mean 100 episode reward | 28.7     |\n",
      "| steps                   | 3369     |\n",
      "--------------------------------------\n",
      "--------------------------------------\n",
      "| % time spent exploring  | 2        |\n",
      "| episodes                | 140      |\n",
      "| mean 100 episode reward | 44.4     |\n",
      "| steps                   | 5058     |\n",
      "--------------------------------------\n",
      "--------------------------------------\n",
      "| % time spent exploring  | 2        |\n",
      "| episodes                | 150      |\n",
      "| mean 100 episode reward | 59       |\n",
      "| steps                   | 6643     |\n",
      "--------------------------------------\n",
      "--------------------------------------\n",
      "| % time spent exploring  | 2        |\n",
      "| episodes                | 160      |\n",
      "| mean 100 episode reward | 82.2     |\n",
      "| steps                   | 9066     |\n",
      "--------------------------------------\n"
     ]
    },
    {
     "data": {
      "text/plain": [
       "<stable_baselines.deepq.dqn.DQN at 0x7f7a7422fc10>"
      ]
     },
     "execution_count": 23,
     "metadata": {},
     "output_type": "execute_result"
    }
   ],
   "source": [
    "dqn_full_model.learn(total_timesteps=10000, log_interval=10)"
   ]
  },
  {
   "cell_type": "code",
   "execution_count": 24,
   "metadata": {
    "colab": {
     "base_uri": "https://localhost:8080/",
     "height": 35
    },
    "colab_type": "code",
    "id": "6cHRULdp--nN",
    "outputId": "5b2a3471-f6fe-4594-8f91-e4c62505a07a"
   },
   "outputs": [
    {
     "name": "stdout",
     "output_type": "stream",
     "text": [
      "Mean reward: 124.16 Num episodes: 100\n"
     ]
    }
   ],
   "source": [
    "mean_reward = evaluate(dqn_per_model, num_episodes=100)"
   ]
  },
  {
   "cell_type": "markdown",
   "metadata": {
    "colab_type": "text",
    "id": "n4Q9dR3UC5Zb"
   },
   "source": [
    "In this particular example, the extensions does not seem to give any improvement compared to the simple DQN version.\n",
    "They are several reasons for that:\n",
    "\n",
    "1. `CartPole-v1` is a pretty simple environment\n",
    "2. We trained DQN for very few timesteps, not enough to see any difference\n",
    "3. The default hyperparameters for DQN are tuned for atari games, where the number of training timesteps is much larger (10^6) and input observations are images\n",
    "4. We have only compared one random seed per experiment"
   ]
  },
  {
   "cell_type": "markdown",
   "metadata": {
    "colab_type": "text",
    "id": "FrI6f5fWnzp-"
   },
   "source": [
    "## Conclusion\n",
    "\n",
    "In this notebook we have seen:\n",
    "- how to define and train a RL model using stable baselines, it takes only one line of code ;)\n",
    "- how to use different RL algorithms and change some hyperparameters"
   ]
  },
  {
   "cell_type": "code",
   "execution_count": 0,
   "metadata": {
    "colab": {},
    "colab_type": "code",
    "id": "73ji3gbNDkf7"
   },
   "outputs": [],
   "source": []
  }
 ],
 "metadata": {
  "accelerator": "GPU",
  "colab": {
   "collapsed_sections": [],
   "include_colab_link": true,
   "name": "1_getting_started.ipynb",
   "provenance": []
  },
  "kernelspec": {
   "display_name": "Python 3",
   "language": "python",
   "name": "python3"
  },
  "language_info": {
   "codemirror_mode": {
    "name": "ipython",
    "version": 3
   },
   "file_extension": ".py",
   "mimetype": "text/x-python",
   "name": "python",
   "nbconvert_exporter": "python",
   "pygments_lexer": "ipython3",
   "version": "3.7.6"
  }
 },
 "nbformat": 4,
 "nbformat_minor": 1
}
